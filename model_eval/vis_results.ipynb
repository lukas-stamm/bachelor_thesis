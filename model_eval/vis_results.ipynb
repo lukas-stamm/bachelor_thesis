{
 "cells": [
  {
   "cell_type": "code",
   "execution_count": 22,
   "metadata": {},
   "outputs": [],
   "source": [
    "import pandas as pd \n",
    "import plotly.express as px\n",
    "import plotly.graph_objects as go\n",
    "from plotly.subplots import make_subplots"
   ]
  },
  {
   "cell_type": "code",
   "execution_count": null,
   "metadata": {},
   "outputs": [
    {
     "data": {
      "text/html": [
       "<div>\n",
       "<style scoped>\n",
       "    .dataframe tbody tr th:only-of-type {\n",
       "        vertical-align: middle;\n",
       "    }\n",
       "\n",
       "    .dataframe tbody tr th {\n",
       "        vertical-align: top;\n",
       "    }\n",
       "\n",
       "    .dataframe thead th {\n",
       "        text-align: right;\n",
       "    }\n",
       "</style>\n",
       "<table border=\"1\" class=\"dataframe\">\n",
       "  <thead>\n",
       "    <tr style=\"text-align: right;\">\n",
       "      <th></th>\n",
       "      <th>Omitted Dataset</th>\n",
       "      <th>Metric</th>\n",
       "      <th>CLIP_basic</th>\n",
       "      <th>CLIP_advanced</th>\n",
       "      <th>ResNet50_basic</th>\n",
       "      <th>ResNet50_advanced</th>\n",
       "      <th>SWIN_basic</th>\n",
       "      <th>SWIN_advanced</th>\n",
       "      <th>ViT_basic</th>\n",
       "      <th>ViT_advanced</th>\n",
       "      <th>Xception_basic</th>\n",
       "      <th>Xception_advanced</th>\n",
       "    </tr>\n",
       "  </thead>\n",
       "  <tbody>\n",
       "    <tr>\n",
       "      <th>0</th>\n",
       "      <td>DALL·E_dataset</td>\n",
       "      <td>Accuracy</td>\n",
       "      <td>0.7526</td>\n",
       "      <td>0.8302</td>\n",
       "      <td>0.7000</td>\n",
       "      <td>0.7970</td>\n",
       "      <td>0.8633</td>\n",
       "      <td>0.9412</td>\n",
       "      <td>0.7147</td>\n",
       "      <td>0.8840</td>\n",
       "      <td>0.7137</td>\n",
       "      <td>0.9247</td>\n",
       "    </tr>\n",
       "    <tr>\n",
       "      <th>1</th>\n",
       "      <td>DALL·E_dataset</td>\n",
       "      <td>Precision</td>\n",
       "      <td>0.7526</td>\n",
       "      <td>0.8565</td>\n",
       "      <td>0.7059</td>\n",
       "      <td>0.8028</td>\n",
       "      <td>0.8648</td>\n",
       "      <td>0.9412</td>\n",
       "      <td>0.7165</td>\n",
       "      <td>0.8901</td>\n",
       "      <td>0.7188</td>\n",
       "      <td>0.9247</td>\n",
       "    </tr>\n",
       "    <tr>\n",
       "      <th>2</th>\n",
       "      <td>DALL·E_dataset</td>\n",
       "      <td>Recall</td>\n",
       "      <td>0.7526</td>\n",
       "      <td>0.8302</td>\n",
       "      <td>0.7000</td>\n",
       "      <td>0.7970</td>\n",
       "      <td>0.8633</td>\n",
       "      <td>0.9412</td>\n",
       "      <td>0.7147</td>\n",
       "      <td>0.8840</td>\n",
       "      <td>0.7137</td>\n",
       "      <td>0.9247</td>\n",
       "    </tr>\n",
       "    <tr>\n",
       "      <th>3</th>\n",
       "      <td>DALL·E_dataset</td>\n",
       "      <td>F1</td>\n",
       "      <td>0.7526</td>\n",
       "      <td>0.8270</td>\n",
       "      <td>0.6978</td>\n",
       "      <td>0.7960</td>\n",
       "      <td>0.8631</td>\n",
       "      <td>0.9412</td>\n",
       "      <td>0.7140</td>\n",
       "      <td>0.8835</td>\n",
       "      <td>0.7120</td>\n",
       "      <td>0.9247</td>\n",
       "    </tr>\n",
       "    <tr>\n",
       "      <th>4</th>\n",
       "      <td>DALL·E_dataset</td>\n",
       "      <td>Mean Conf.</td>\n",
       "      <td>0.5812</td>\n",
       "      <td>0.9174</td>\n",
       "      <td>0.5775</td>\n",
       "      <td>0.7709</td>\n",
       "      <td>0.7538</td>\n",
       "      <td>0.9515</td>\n",
       "      <td>0.7341</td>\n",
       "      <td>0.9361</td>\n",
       "      <td>0.6552</td>\n",
       "      <td>0.9624</td>\n",
       "    </tr>\n",
       "    <tr>\n",
       "      <th>5</th>\n",
       "      <td>DALL·E_dataset</td>\n",
       "      <td>High Cov.</td>\n",
       "      <td>0.0000</td>\n",
       "      <td>0.7360</td>\n",
       "      <td>0.0000</td>\n",
       "      <td>0.2749</td>\n",
       "      <td>0.1937</td>\n",
       "      <td>0.8544</td>\n",
       "      <td>0.1544</td>\n",
       "      <td>0.7988</td>\n",
       "      <td>0.0230</td>\n",
       "      <td>0.8805</td>\n",
       "    </tr>\n",
       "    <tr>\n",
       "      <th>6</th>\n",
       "      <td>DALL·E_dataset</td>\n",
       "      <td>High Acc.</td>\n",
       "      <td>0.0000</td>\n",
       "      <td>0.9103</td>\n",
       "      <td>0.0000</td>\n",
       "      <td>0.9577</td>\n",
       "      <td>0.9940</td>\n",
       "      <td>0.9826</td>\n",
       "      <td>0.9292</td>\n",
       "      <td>0.9491</td>\n",
       "      <td>0.9899</td>\n",
       "      <td>0.9614</td>\n",
       "    </tr>\n",
       "    <tr>\n",
       "      <th>7</th>\n",
       "      <td>IMAGEN_dataset</td>\n",
       "      <td>Accuracy</td>\n",
       "      <td>0.7213</td>\n",
       "      <td>0.7889</td>\n",
       "      <td>0.7247</td>\n",
       "      <td>0.8166</td>\n",
       "      <td>0.7506</td>\n",
       "      <td>0.7328</td>\n",
       "      <td>0.7345</td>\n",
       "      <td>0.7587</td>\n",
       "      <td>0.7277</td>\n",
       "      <td>0.8540</td>\n",
       "    </tr>\n",
       "    <tr>\n",
       "      <th>8</th>\n",
       "      <td>IMAGEN_dataset</td>\n",
       "      <td>Precision</td>\n",
       "      <td>0.7216</td>\n",
       "      <td>0.8351</td>\n",
       "      <td>0.7252</td>\n",
       "      <td>0.8169</td>\n",
       "      <td>0.7710</td>\n",
       "      <td>0.8064</td>\n",
       "      <td>0.7356</td>\n",
       "      <td>0.8151</td>\n",
       "      <td>0.7371</td>\n",
       "      <td>0.8718</td>\n",
       "    </tr>\n",
       "    <tr>\n",
       "      <th>9</th>\n",
       "      <td>IMAGEN_dataset</td>\n",
       "      <td>Recall</td>\n",
       "      <td>0.7213</td>\n",
       "      <td>0.7889</td>\n",
       "      <td>0.7247</td>\n",
       "      <td>0.8166</td>\n",
       "      <td>0.7506</td>\n",
       "      <td>0.7328</td>\n",
       "      <td>0.7345</td>\n",
       "      <td>0.7587</td>\n",
       "      <td>0.7277</td>\n",
       "      <td>0.8540</td>\n",
       "    </tr>\n",
       "    <tr>\n",
       "      <th>10</th>\n",
       "      <td>IMAGEN_dataset</td>\n",
       "      <td>F1</td>\n",
       "      <td>0.7212</td>\n",
       "      <td>0.7814</td>\n",
       "      <td>0.7245</td>\n",
       "      <td>0.8165</td>\n",
       "      <td>0.7459</td>\n",
       "      <td>0.7157</td>\n",
       "      <td>0.7342</td>\n",
       "      <td>0.7474</td>\n",
       "      <td>0.7249</td>\n",
       "      <td>0.8523</td>\n",
       "    </tr>\n",
       "    <tr>\n",
       "      <th>11</th>\n",
       "      <td>IMAGEN_dataset</td>\n",
       "      <td>Mean Conf.</td>\n",
       "      <td>0.5690</td>\n",
       "      <td>0.9431</td>\n",
       "      <td>0.5843</td>\n",
       "      <td>0.8039</td>\n",
       "      <td>0.7501</td>\n",
       "      <td>0.9427</td>\n",
       "      <td>0.7278</td>\n",
       "      <td>0.9282</td>\n",
       "      <td>0.6629</td>\n",
       "      <td>0.9498</td>\n",
       "    </tr>\n",
       "    <tr>\n",
       "      <th>12</th>\n",
       "      <td>IMAGEN_dataset</td>\n",
       "      <td>High Cov.</td>\n",
       "      <td>0.0000</td>\n",
       "      <td>0.8268</td>\n",
       "      <td>0.0000</td>\n",
       "      <td>0.3643</td>\n",
       "      <td>0.2004</td>\n",
       "      <td>0.8196</td>\n",
       "      <td>0.1396</td>\n",
       "      <td>0.7719</td>\n",
       "      <td>0.0345</td>\n",
       "      <td>0.8379</td>\n",
       "    </tr>\n",
       "    <tr>\n",
       "      <th>13</th>\n",
       "      <td>IMAGEN_dataset</td>\n",
       "      <td>High Acc.</td>\n",
       "      <td>0.0000</td>\n",
       "      <td>0.8425</td>\n",
       "      <td>0.0000</td>\n",
       "      <td>0.9685</td>\n",
       "      <td>0.9342</td>\n",
       "      <td>0.7887</td>\n",
       "      <td>0.9695</td>\n",
       "      <td>0.8258</td>\n",
       "      <td>1.0000</td>\n",
       "      <td>0.8974</td>\n",
       "    </tr>\n",
       "    <tr>\n",
       "      <th>14</th>\n",
       "      <td>SD_dataset</td>\n",
       "      <td>Accuracy</td>\n",
       "      <td>0.6236</td>\n",
       "      <td>0.8121</td>\n",
       "      <td>0.7176</td>\n",
       "      <td>0.7852</td>\n",
       "      <td>0.7606</td>\n",
       "      <td>0.7607</td>\n",
       "      <td>0.6850</td>\n",
       "      <td>0.5989</td>\n",
       "      <td>0.7138</td>\n",
       "      <td>0.8043</td>\n",
       "    </tr>\n",
       "    <tr>\n",
       "      <th>15</th>\n",
       "      <td>SD_dataset</td>\n",
       "      <td>Precision</td>\n",
       "      <td>0.6236</td>\n",
       "      <td>0.8457</td>\n",
       "      <td>0.7176</td>\n",
       "      <td>0.7869</td>\n",
       "      <td>0.7782</td>\n",
       "      <td>0.8289</td>\n",
       "      <td>0.6904</td>\n",
       "      <td>0.7609</td>\n",
       "      <td>0.7154</td>\n",
       "      <td>0.8430</td>\n",
       "    </tr>\n",
       "    <tr>\n",
       "      <th>16</th>\n",
       "      <td>SD_dataset</td>\n",
       "      <td>Recall</td>\n",
       "      <td>0.6236</td>\n",
       "      <td>0.8121</td>\n",
       "      <td>0.7176</td>\n",
       "      <td>0.7852</td>\n",
       "      <td>0.7606</td>\n",
       "      <td>0.7607</td>\n",
       "      <td>0.6850</td>\n",
       "      <td>0.5989</td>\n",
       "      <td>0.7138</td>\n",
       "      <td>0.8043</td>\n",
       "    </tr>\n",
       "    <tr>\n",
       "      <th>17</th>\n",
       "      <td>SD_dataset</td>\n",
       "      <td>F1</td>\n",
       "      <td>0.6235</td>\n",
       "      <td>0.8075</td>\n",
       "      <td>0.7175</td>\n",
       "      <td>0.7849</td>\n",
       "      <td>0.7567</td>\n",
       "      <td>0.7477</td>\n",
       "      <td>0.6828</td>\n",
       "      <td>0.5252</td>\n",
       "      <td>0.7133</td>\n",
       "      <td>0.7986</td>\n",
       "    </tr>\n",
       "    <tr>\n",
       "      <th>18</th>\n",
       "      <td>SD_dataset</td>\n",
       "      <td>Mean Conf.</td>\n",
       "      <td>0.5575</td>\n",
       "      <td>0.9231</td>\n",
       "      <td>0.5581</td>\n",
       "      <td>0.7660</td>\n",
       "      <td>0.7415</td>\n",
       "      <td>0.9377</td>\n",
       "      <td>0.7194</td>\n",
       "      <td>0.9334</td>\n",
       "      <td>0.7194</td>\n",
       "      <td>0.9418</td>\n",
       "    </tr>\n",
       "    <tr>\n",
       "      <th>19</th>\n",
       "      <td>SD_dataset</td>\n",
       "      <td>High Cov.</td>\n",
       "      <td>0.0000</td>\n",
       "      <td>0.7609</td>\n",
       "      <td>0.0000</td>\n",
       "      <td>0.2364</td>\n",
       "      <td>0.1703</td>\n",
       "      <td>0.7994</td>\n",
       "      <td>0.1271</td>\n",
       "      <td>0.7864</td>\n",
       "      <td>0.0108</td>\n",
       "      <td>0.8118</td>\n",
       "    </tr>\n",
       "    <tr>\n",
       "      <th>20</th>\n",
       "      <td>SD_dataset</td>\n",
       "      <td>High Acc.</td>\n",
       "      <td>0.0000</td>\n",
       "      <td>0.8828</td>\n",
       "      <td>0.0000</td>\n",
       "      <td>0.9581</td>\n",
       "      <td>0.9374</td>\n",
       "      <td>0.8207</td>\n",
       "      <td>0.8618</td>\n",
       "      <td>0.6525</td>\n",
       "      <td>0.9483</td>\n",
       "      <td>0.8589</td>\n",
       "    </tr>\n",
       "  </tbody>\n",
       "</table>\n",
       "</div>"
      ],
      "text/plain": [
       "   Omitted Dataset      Metric  CLIP_basic  CLIP_advanced  ResNet50_basic  \\\n",
       "0   DALL·E_dataset    Accuracy      0.7526         0.8302          0.7000   \n",
       "1   DALL·E_dataset   Precision      0.7526         0.8565          0.7059   \n",
       "2   DALL·E_dataset      Recall      0.7526         0.8302          0.7000   \n",
       "3   DALL·E_dataset          F1      0.7526         0.8270          0.6978   \n",
       "4   DALL·E_dataset  Mean Conf.      0.5812         0.9174          0.5775   \n",
       "5   DALL·E_dataset   High Cov.      0.0000         0.7360          0.0000   \n",
       "6   DALL·E_dataset   High Acc.      0.0000         0.9103          0.0000   \n",
       "7   IMAGEN_dataset    Accuracy      0.7213         0.7889          0.7247   \n",
       "8   IMAGEN_dataset   Precision      0.7216         0.8351          0.7252   \n",
       "9   IMAGEN_dataset      Recall      0.7213         0.7889          0.7247   \n",
       "10  IMAGEN_dataset          F1      0.7212         0.7814          0.7245   \n",
       "11  IMAGEN_dataset  Mean Conf.      0.5690         0.9431          0.5843   \n",
       "12  IMAGEN_dataset   High Cov.      0.0000         0.8268          0.0000   \n",
       "13  IMAGEN_dataset   High Acc.      0.0000         0.8425          0.0000   \n",
       "14      SD_dataset    Accuracy      0.6236         0.8121          0.7176   \n",
       "15      SD_dataset   Precision      0.6236         0.8457          0.7176   \n",
       "16      SD_dataset      Recall      0.6236         0.8121          0.7176   \n",
       "17      SD_dataset          F1      0.6235         0.8075          0.7175   \n",
       "18      SD_dataset  Mean Conf.      0.5575         0.9231          0.5581   \n",
       "19      SD_dataset   High Cov.      0.0000         0.7609          0.0000   \n",
       "20      SD_dataset   High Acc.      0.0000         0.8828          0.0000   \n",
       "\n",
       "    ResNet50_advanced  SWIN_basic  SWIN_advanced  ViT_basic  ViT_advanced  \\\n",
       "0              0.7970      0.8633         0.9412     0.7147        0.8840   \n",
       "1              0.8028      0.8648         0.9412     0.7165        0.8901   \n",
       "2              0.7970      0.8633         0.9412     0.7147        0.8840   \n",
       "3              0.7960      0.8631         0.9412     0.7140        0.8835   \n",
       "4              0.7709      0.7538         0.9515     0.7341        0.9361   \n",
       "5              0.2749      0.1937         0.8544     0.1544        0.7988   \n",
       "6              0.9577      0.9940         0.9826     0.9292        0.9491   \n",
       "7              0.8166      0.7506         0.7328     0.7345        0.7587   \n",
       "8              0.8169      0.7710         0.8064     0.7356        0.8151   \n",
       "9              0.8166      0.7506         0.7328     0.7345        0.7587   \n",
       "10             0.8165      0.7459         0.7157     0.7342        0.7474   \n",
       "11             0.8039      0.7501         0.9427     0.7278        0.9282   \n",
       "12             0.3643      0.2004         0.8196     0.1396        0.7719   \n",
       "13             0.9685      0.9342         0.7887     0.9695        0.8258   \n",
       "14             0.7852      0.7606         0.7607     0.6850        0.5989   \n",
       "15             0.7869      0.7782         0.8289     0.6904        0.7609   \n",
       "16             0.7852      0.7606         0.7607     0.6850        0.5989   \n",
       "17             0.7849      0.7567         0.7477     0.6828        0.5252   \n",
       "18             0.7660      0.7415         0.9377     0.7194        0.9334   \n",
       "19             0.2364      0.1703         0.7994     0.1271        0.7864   \n",
       "20             0.9581      0.9374         0.8207     0.8618        0.6525   \n",
       "\n",
       "    Xception_basic  Xception_advanced  \n",
       "0           0.7137             0.9247  \n",
       "1           0.7188             0.9247  \n",
       "2           0.7137             0.9247  \n",
       "3           0.7120             0.9247  \n",
       "4           0.6552             0.9624  \n",
       "5           0.0230             0.8805  \n",
       "6           0.9899             0.9614  \n",
       "7           0.7277             0.8540  \n",
       "8           0.7371             0.8718  \n",
       "9           0.7277             0.8540  \n",
       "10          0.7249             0.8523  \n",
       "11          0.6629             0.9498  \n",
       "12          0.0345             0.8379  \n",
       "13          1.0000             0.8974  \n",
       "14          0.7138             0.8043  \n",
       "15          0.7154             0.8430  \n",
       "16          0.7138             0.8043  \n",
       "17          0.7133             0.7986  \n",
       "18          0.7194             0.9418  \n",
       "19          0.0108             0.8118  \n",
       "20          0.9483             0.8589  "
      ]
     },
     "execution_count": 3,
     "metadata": {},
     "output_type": "execute_result"
    }
   ],
   "source": [
    "df = pd.read_csv('leave_one_out.csv')\n",
    "df"
   ]
  },
  {
   "cell_type": "code",
   "execution_count": 5,
   "metadata": {},
   "outputs": [
    {
     "data": {
      "text/html": [
       "<div>\n",
       "<style scoped>\n",
       "    .dataframe tbody tr th:only-of-type {\n",
       "        vertical-align: middle;\n",
       "    }\n",
       "\n",
       "    .dataframe tbody tr th {\n",
       "        vertical-align: top;\n",
       "    }\n",
       "\n",
       "    .dataframe thead th {\n",
       "        text-align: right;\n",
       "    }\n",
       "</style>\n",
       "<table border=\"1\" class=\"dataframe\">\n",
       "  <thead>\n",
       "    <tr style=\"text-align: right;\">\n",
       "      <th></th>\n",
       "      <th>Omitted Dataset</th>\n",
       "      <th>Metric</th>\n",
       "      <th>Model</th>\n",
       "      <th>Value</th>\n",
       "    </tr>\n",
       "  </thead>\n",
       "  <tbody>\n",
       "    <tr>\n",
       "      <th>0</th>\n",
       "      <td>DALL·E_dataset</td>\n",
       "      <td>Accuracy</td>\n",
       "      <td>CLIP_basic</td>\n",
       "      <td>0.7526</td>\n",
       "    </tr>\n",
       "    <tr>\n",
       "      <th>1</th>\n",
       "      <td>DALL·E_dataset</td>\n",
       "      <td>Precision</td>\n",
       "      <td>CLIP_basic</td>\n",
       "      <td>0.7526</td>\n",
       "    </tr>\n",
       "    <tr>\n",
       "      <th>2</th>\n",
       "      <td>DALL·E_dataset</td>\n",
       "      <td>Recall</td>\n",
       "      <td>CLIP_basic</td>\n",
       "      <td>0.7526</td>\n",
       "    </tr>\n",
       "    <tr>\n",
       "      <th>3</th>\n",
       "      <td>DALL·E_dataset</td>\n",
       "      <td>F1</td>\n",
       "      <td>CLIP_basic</td>\n",
       "      <td>0.7526</td>\n",
       "    </tr>\n",
       "    <tr>\n",
       "      <th>4</th>\n",
       "      <td>DALL·E_dataset</td>\n",
       "      <td>Mean Conf.</td>\n",
       "      <td>CLIP_basic</td>\n",
       "      <td>0.5812</td>\n",
       "    </tr>\n",
       "    <tr>\n",
       "      <th>...</th>\n",
       "      <td>...</td>\n",
       "      <td>...</td>\n",
       "      <td>...</td>\n",
       "      <td>...</td>\n",
       "    </tr>\n",
       "    <tr>\n",
       "      <th>205</th>\n",
       "      <td>SD_dataset</td>\n",
       "      <td>Recall</td>\n",
       "      <td>Xception_advanced</td>\n",
       "      <td>0.8043</td>\n",
       "    </tr>\n",
       "    <tr>\n",
       "      <th>206</th>\n",
       "      <td>SD_dataset</td>\n",
       "      <td>F1</td>\n",
       "      <td>Xception_advanced</td>\n",
       "      <td>0.7986</td>\n",
       "    </tr>\n",
       "    <tr>\n",
       "      <th>207</th>\n",
       "      <td>SD_dataset</td>\n",
       "      <td>Mean Conf.</td>\n",
       "      <td>Xception_advanced</td>\n",
       "      <td>0.9418</td>\n",
       "    </tr>\n",
       "    <tr>\n",
       "      <th>208</th>\n",
       "      <td>SD_dataset</td>\n",
       "      <td>High Cov.</td>\n",
       "      <td>Xception_advanced</td>\n",
       "      <td>0.8118</td>\n",
       "    </tr>\n",
       "    <tr>\n",
       "      <th>209</th>\n",
       "      <td>SD_dataset</td>\n",
       "      <td>High Acc.</td>\n",
       "      <td>Xception_advanced</td>\n",
       "      <td>0.8589</td>\n",
       "    </tr>\n",
       "  </tbody>\n",
       "</table>\n",
       "<p>210 rows × 4 columns</p>\n",
       "</div>"
      ],
      "text/plain": [
       "    Omitted Dataset      Metric              Model   Value\n",
       "0    DALL·E_dataset    Accuracy         CLIP_basic  0.7526\n",
       "1    DALL·E_dataset   Precision         CLIP_basic  0.7526\n",
       "2    DALL·E_dataset      Recall         CLIP_basic  0.7526\n",
       "3    DALL·E_dataset          F1         CLIP_basic  0.7526\n",
       "4    DALL·E_dataset  Mean Conf.         CLIP_basic  0.5812\n",
       "..              ...         ...                ...     ...\n",
       "205      SD_dataset      Recall  Xception_advanced  0.8043\n",
       "206      SD_dataset          F1  Xception_advanced  0.7986\n",
       "207      SD_dataset  Mean Conf.  Xception_advanced  0.9418\n",
       "208      SD_dataset   High Cov.  Xception_advanced  0.8118\n",
       "209      SD_dataset   High Acc.  Xception_advanced  0.8589\n",
       "\n",
       "[210 rows x 4 columns]"
      ]
     },
     "execution_count": 5,
     "metadata": {},
     "output_type": "execute_result"
    }
   ],
   "source": [
    "df_long = df.melt(\n",
    "    id_vars=['Omitted Dataset', 'Metric'],\n",
    "    var_name='Model',\n",
    "    value_name='Value'\n",
    ")\n",
    "\n",
    "df_long"
   ]
  },
  {
   "cell_type": "code",
   "execution_count": 6,
   "metadata": {},
   "outputs": [],
   "source": [
    "metrics = [\n",
    "    'Accuracy',\n",
    "    'Precision',\n",
    "    'Recall',\n",
    "    'F1',\n",
    "    'Mean Conf.',\n",
    "    'High Cov.',\n",
    "    'High Acc.'\n",
    "]"
   ]
  },
  {
   "cell_type": "code",
   "execution_count": null,
   "metadata": {},
   "outputs": [],
   "source": [
    "df_long['Run_type'] = df_long['Model'].apply(lambda x: 'advanced' if x.endswith('_advanced') else 'basic')\n",
    "df_long['Model_base'] = df_long['Model'].str.replace('_basic','').str.replace('_advanced','')\n"
   ]
  },
  {
   "cell_type": "code",
   "execution_count": null,
   "metadata": {},
   "outputs": [],
   "source": [
    "generators = df_long['Omitted Dataset'].unique()\n",
    "metrics = ['Accuracy','Precision','Recall','F1','Mean Conf.','High Cov.','High Acc.']"
   ]
  },
  {
   "cell_type": "code",
   "execution_count": 48,
   "metadata": {},
   "outputs": [
    {
     "data": {
      "application/vnd.plotly.v1+json": {
       "config": {
        "plotlyServerURL": "https://plot.ly"
       },
       "data": [
        {
         "marker": {
          "color": "#FFA15A"
         },
         "name": "basic",
         "showlegend": true,
         "text": {
          "bdata": "f2q8dJMY6D9mZmZmZmbmPwRWDi2ynes/4XoUrkfh5j8MAiuHFtnmPw==",
          "dtype": "f8"
         },
         "textfont": {
          "color": "white"
         },
         "textposition": "inside",
         "type": "bar",
         "x": [
          "CLIP",
          "ResNet50",
          "SWIN",
          "ViT",
          "Xception"
         ],
         "xaxis": "x",
         "y": {
          "bdata": "9wZfmEwV6D9mZmZmZmbmP6pgVFInoOs/O3DOiNLe5j9m9+RhodbmPw==",
          "dtype": "f8"
         },
         "yaxis": "y"
        },
        {
         "marker": {
          "color": "#636EFA"
         },
         "name": "advanced",
         "showlegend": true,
         "text": {
          "bdata": "j8L1KFyP6j8bL90kBoHpP+kmMQisHO4/fT81XrpJ7D+amZmZmZntPw==",
          "dtype": "f8"
         },
         "textfont": {
          "color": "white"
         },
         "textposition": "inside",
         "type": "bar",
         "x": [
          "CLIP",
          "ResNet50",
          "SWIN",
          "ViT",
          "Xception"
         ],
         "xaxis": "x",
         "y": {
          "bdata": "VHQkl/+Q6j8bL90kBoHpP67YX3ZPHu4/fT81XrpJ7D/zjlN0JJftPw==",
          "dtype": "f8"
         },
         "yaxis": "y"
        },
        {
         "marker": {
          "color": "#FFA15A"
         },
         "name": "basic",
         "showlegend": false,
         "text": {
          "bdata": "30+Nl24S5z8zMzMzMzPnP9V46SYxCOg/sHJoke185z+yne+nxkvnPw==",
          "dtype": "f8"
         },
         "textfont": {
          "color": "white"
         },
         "textposition": "inside",
         "type": "bar",
         "x": [
          "CLIP",
          "ResNet50",
          "SWIN",
          "ViT",
          "Xception"
         ],
         "xaxis": "x2",
         "y": {
          "bdata": "hlrTvOMU5z+NKO0NvjDnP00VjErqBOg/Gy/dJAaB5z8Mk6mCUUnnPw==",
          "dtype": "f8"
         },
         "yaxis": "y2"
        },
        {
         "marker": {
          "color": "#636EFA"
         },
         "name": "advanced",
         "showlegend": false,
         "text": {
          "bdata": "c2iR7Xw/6T++nxov3STqP9v5fmq8dOc/fT81XrpJ6D+HFtnO91PrPw==",
          "dtype": "f8"
         },
         "textfont": {
          "color": "white"
         },
         "textposition": "inside",
         "type": "bar",
         "x": [
          "CLIP",
          "ResNet50",
          "SWIN",
          "ViT",
          "Xception"
         ],
         "xaxis": "x2",
         "y": {
          "bdata": "kQ96Nqs+6T82PL1SliHqPxdIUPwYc+c/1zTvOEVH6D+HFtnO91PrPw==",
          "dtype": "f8"
         },
         "yaxis": "y2"
        },
        {
         "marker": {
          "color": "#FFA15A"
         },
         "name": "basic",
         "showlegend": false,
         "text": {
          "bdata": "K4cW2c734z9g5dAi2/nmPycxCKwcWug/7FG4HoXr5T8MAiuHFtnmPw==",
          "dtype": "f8"
         },
         "textfont": {
          "color": "white"
         },
         "textposition": "inside",
         "type": "bar",
         "x": [
          "CLIP",
          "ResNet50",
          "SWIN",
          "ViT",
          "Xception"
         ],
         "xaxis": "x3",
         "y": {
          "bdata": "oyO5/If04z/YgXNGlPbmP5/Nqs/VVug/7FG4HoXr5T9IUPwYc9fmPw==",
          "dtype": "f8"
         },
         "yaxis": "y3"
        },
        {
         "marker": {
          "color": "#636EFA"
         },
         "name": "advanced",
         "showlegend": false,
         "text": {
          "bdata": "lkOLbOf76T8fhetRuB7pPycxCKwcWug/XrpJDAIr4z/ufD81XrrpPw==",
          "dtype": "f8"
         },
         "textfont": {
          "color": "white"
         },
         "textposition": "inside",
         "type": "bar",
         "x": [
          "CLIP",
          "ResNet50",
          "SWIN",
          "ViT",
          "Xception"
         ],
         "xaxis": "x3",
         "y": {
          "bdata": "eJyiI7n86T/jNhrAWyDpP4EmwoanV+g/fGEyVTAq4z+Uh4Va07zpPw==",
          "dtype": "f8"
         },
         "yaxis": "y3"
        },
        {
         "marker": {
          "color": "#FFA15A"
         },
         "name": "basic",
         "showlegend": false,
         "text": {
          "bdata": "f2q8dJMY6D9kO99PjZfmP65H4XoUrus/tvP91Hjp5j81XrpJDALnPw==",
          "dtype": "f8"
         },
         "textfont": {
          "color": "white"
         },
         "textposition": "inside",
         "type": "bar",
         "x": [
          "CLIP",
          "ResNet50",
          "SWIN",
          "ViT",
          "Xception"
         ],
         "xaxis": "x4",
         "y": {
          "bdata": "9wZfmEwV6D+C4seYu5bmP+qVsgxxrOs/IbByaJHt5j9xrIvbaADnPw==",
          "dtype": "f8"
         },
         "yaxis": "y4"
        },
        {
         "marker": {
          "color": "#636EFA"
         },
         "name": "advanced",
         "showlegend": false,
         "text": {
          "bdata": "MQisHFpk6z8ZBFYOLbLpP+kmMQisHO4/exSuR+F67D+amZmZmZntPw==",
          "dtype": "f8"
         },
         "textfont": {
          "color": "white"
         },
         "textposition": "inside",
         "type": "bar",
         "x": [
          "CLIP",
          "ResNet50",
          "SWIN",
          "ViT",
          "Xception"
         ],
         "xaxis": "x4",
         "y": {
          "bdata": "nMQgsHJo6z9UUiegibDpP67YX3ZPHu4/XW3F/rJ77D/zjlN0JJftPw==",
          "dtype": "f8"
         },
         "yaxis": "y4"
        },
        {
         "marker": {
          "color": "#FFA15A"
         },
         "name": "basic",
         "showlegend": false,
         "text": {
          "bdata": "tMh2vp8a5z8zMzMzMzPnP3npJjEIrOg/WmQ730+N5z8v3SQGgZXnPw==",
          "dtype": "f8"
         },
         "textfont": {
          "color": "white"
         },
         "textposition": "inside",
         "type": "bar",
         "x": [
          "CLIP",
          "ResNet50",
          "SWIN",
          "ViT",
          "Xception"
         ],
         "xaxis": "x5",
         "y": {
          "bdata": "LGUZ4lgX5z/35GGh1jTnP3npJjEIrOg/0gDeAgmK5z8RNjy9UpbnPw==",
          "dtype": "f8"
         },
         "yaxis": "y5"
        },
        {
         "marker": {
          "color": "#636EFA"
         },
         "name": "advanced",
         "showlegend": false,
         "text": {
          "bdata": "uB6F61G46j++nxov3STqP5huEoPAyuk/FK5H4XoU6j+BlUOLbOfrPw==",
          "dtype": "f8"
         },
         "textfont": {
          "color": "white"
         },
         "textposition": "inside",
         "type": "bar",
         "x": [
          "CLIP",
          "ResNet50",
          "SWIN",
          "ViT",
          "Xception"
         ],
         "xaxis": "x5",
         "y": {
          "bdata": "mnecoiO56j/cRgN4CyTqPyDSb18Hzuk/9wZfmEwV6j+94xQdyeXrPw==",
          "dtype": "f8"
         },
         "yaxis": "y5"
        },
        {
         "marker": {
          "color": "#FFA15A"
         },
         "name": "basic",
         "showlegend": false,
         "text": {
          "bdata": "K4cW2c734z9g5dAi2/nmP0w3iUFg5eg/FK5H4XoU5j/hehSuR+HmPw==",
          "dtype": "f8"
         },
         "textfont": {
          "color": "white"
         },
         "textposition": "inside",
         "type": "bar",
         "x": [
          "CLIP",
          "ResNet50",
          "SWIN",
          "ViT",
          "Xception"
         ],
         "xaxis": "x6",
         "y": {
          "bdata": "oyO5/If04z/YgXNGlPbmPxDpt68D5+g/nRGlvcEX5j9q3nGKjuTmPw==",
          "dtype": "f8"
         },
         "yaxis": "y6"
        },
        {
         "marker": {
          "color": "#636EFA"
         },
         "name": "advanced",
         "showlegend": false,
         "text": {
          "bdata": "30+Nl24S6z/Jdr6fGi/pP7pJDAIrh+o/JzEIrBxa6D9g5dAi2/nqPw==",
          "dtype": "f8"
         },
         "textfont": {
          "color": "white"
         },
         "textposition": "inside",
         "type": "bar",
         "x": [
          "CLIP",
          "ResNet50",
          "SWIN",
          "ViT",
          "Xception"
         ],
         "xaxis": "x6",
         "y": {
          "bdata": "OUVHcvkP6z/nHafoSC7pP9jw9EpZhuo/Rdjw9EpZ6D9g5dAi2/nqPw==",
          "dtype": "f8"
         },
         "yaxis": "y6"
        },
        {
         "marker": {
          "color": "#FFA15A"
         },
         "name": "basic",
         "showlegend": false,
         "text": {
          "bdata": "f2q8dJMY6D9mZmZmZmbmPwRWDi2ynes/4XoUrkfh5j8MAiuHFtnmPw==",
          "dtype": "f8"
         },
         "textfont": {
          "color": "white"
         },
         "textposition": "inside",
         "type": "bar",
         "x": [
          "CLIP",
          "ResNet50",
          "SWIN",
          "ViT",
          "Xception"
         ],
         "xaxis": "x7",
         "y": {
          "bdata": "9wZfmEwV6D9mZmZmZmbmP6pgVFInoOs/O3DOiNLe5j9m9+RhodbmPw==",
          "dtype": "f8"
         },
         "yaxis": "y7"
        },
        {
         "marker": {
          "color": "#636EFA"
         },
         "name": "advanced",
         "showlegend": false,
         "text": {
          "bdata": "j8L1KFyP6j8bL90kBoHpP+kmMQisHO4/fT81XrpJ7D+amZmZmZntPw==",
          "dtype": "f8"
         },
         "textfont": {
          "color": "white"
         },
         "textposition": "inside",
         "type": "bar",
         "x": [
          "CLIP",
          "ResNet50",
          "SWIN",
          "ViT",
          "Xception"
         ],
         "xaxis": "x7",
         "y": {
          "bdata": "VHQkl/+Q6j8bL90kBoHpP67YX3ZPHu4/fT81XrpJ7D/zjlN0JJftPw==",
          "dtype": "f8"
         },
         "yaxis": "y7"
        },
        {
         "marker": {
          "color": "#FFA15A"
         },
         "name": "basic",
         "showlegend": false,
         "text": {
          "bdata": "30+Nl24S5z8zMzMzMzPnP9V46SYxCOg/sHJoke185z+yne+nxkvnPw==",
          "dtype": "f8"
         },
         "textfont": {
          "color": "white"
         },
         "textposition": "inside",
         "type": "bar",
         "x": [
          "CLIP",
          "ResNet50",
          "SWIN",
          "ViT",
          "Xception"
         ],
         "xaxis": "x8",
         "y": {
          "bdata": "hlrTvOMU5z+NKO0NvjDnP00VjErqBOg/Gy/dJAaB5z8Mk6mCUUnnPw==",
          "dtype": "f8"
         },
         "yaxis": "y8"
        },
        {
         "marker": {
          "color": "#636EFA"
         },
         "name": "advanced",
         "showlegend": false,
         "text": {
          "bdata": "c2iR7Xw/6T++nxov3STqP9v5fmq8dOc/fT81XrpJ6D+HFtnO91PrPw==",
          "dtype": "f8"
         },
         "textfont": {
          "color": "white"
         },
         "textposition": "inside",
         "type": "bar",
         "x": [
          "CLIP",
          "ResNet50",
          "SWIN",
          "ViT",
          "Xception"
         ],
         "xaxis": "x8",
         "y": {
          "bdata": "kQ96Nqs+6T82PL1SliHqPxdIUPwYc+c/1zTvOEVH6D+HFtnO91PrPw==",
          "dtype": "f8"
         },
         "yaxis": "y8"
        },
        {
         "marker": {
          "color": "#FFA15A"
         },
         "name": "basic",
         "showlegend": false,
         "text": {
          "bdata": "K4cW2c734z9g5dAi2/nmPycxCKwcWug/7FG4HoXr5T8MAiuHFtnmPw==",
          "dtype": "f8"
         },
         "textfont": {
          "color": "white"
         },
         "textposition": "inside",
         "type": "bar",
         "x": [
          "CLIP",
          "ResNet50",
          "SWIN",
          "ViT",
          "Xception"
         ],
         "xaxis": "x9",
         "y": {
          "bdata": "oyO5/If04z/YgXNGlPbmP5/Nqs/VVug/7FG4HoXr5T9IUPwYc9fmPw==",
          "dtype": "f8"
         },
         "yaxis": "y9"
        },
        {
         "marker": {
          "color": "#636EFA"
         },
         "name": "advanced",
         "showlegend": false,
         "text": {
          "bdata": "lkOLbOf76T8fhetRuB7pPycxCKwcWug/XrpJDAIr4z/ufD81XrrpPw==",
          "dtype": "f8"
         },
         "textfont": {
          "color": "white"
         },
         "textposition": "inside",
         "type": "bar",
         "x": [
          "CLIP",
          "ResNet50",
          "SWIN",
          "ViT",
          "Xception"
         ],
         "xaxis": "x9",
         "y": {
          "bdata": "eJyiI7n86T/jNhrAWyDpP4EmwoanV+g/fGEyVTAq4z+Uh4Va07zpPw==",
          "dtype": "f8"
         },
         "yaxis": "y9"
        }
       ],
       "layout": {
        "annotations": [
         {
          "font": {
           "size": 16
          },
          "showarrow": false,
          "text": "Accuracy - DALL·E_dataset",
          "x": 0.16,
          "xanchor": "center",
          "xref": "paper",
          "y": 1,
          "yanchor": "bottom",
          "yref": "paper"
         },
         {
          "font": {
           "size": 16
          },
          "showarrow": false,
          "text": "Accuracy - IMAGEN_dataset",
          "x": 0.5,
          "xanchor": "center",
          "xref": "paper",
          "y": 1,
          "yanchor": "bottom",
          "yref": "paper"
         },
         {
          "font": {
           "size": 16
          },
          "showarrow": false,
          "text": "Accuracy - SD_dataset",
          "x": 0.8400000000000001,
          "xanchor": "center",
          "xref": "paper",
          "y": 1,
          "yanchor": "bottom",
          "yref": "paper"
         },
         {
          "font": {
           "size": 16
          },
          "showarrow": false,
          "text": "Precision - DALL·E_dataset",
          "x": 0.16,
          "xanchor": "center",
          "xref": "paper",
          "y": 0.6333333333333333,
          "yanchor": "bottom",
          "yref": "paper"
         },
         {
          "font": {
           "size": 16
          },
          "showarrow": false,
          "text": "Precision - IMAGEN_dataset",
          "x": 0.5,
          "xanchor": "center",
          "xref": "paper",
          "y": 0.6333333333333333,
          "yanchor": "bottom",
          "yref": "paper"
         },
         {
          "font": {
           "size": 16
          },
          "showarrow": false,
          "text": "Precision - SD_dataset",
          "x": 0.8400000000000001,
          "xanchor": "center",
          "xref": "paper",
          "y": 0.6333333333333333,
          "yanchor": "bottom",
          "yref": "paper"
         },
         {
          "font": {
           "size": 16
          },
          "showarrow": false,
          "text": "Recall - DALL·E_dataset",
          "x": 0.16,
          "xanchor": "center",
          "xref": "paper",
          "y": 0.26666666666666666,
          "yanchor": "bottom",
          "yref": "paper"
         },
         {
          "font": {
           "size": 16
          },
          "showarrow": false,
          "text": "Recall - IMAGEN_dataset",
          "x": 0.5,
          "xanchor": "center",
          "xref": "paper",
          "y": 0.26666666666666666,
          "yanchor": "bottom",
          "yref": "paper"
         },
         {
          "font": {
           "size": 16
          },
          "showarrow": false,
          "text": "Recall - SD_dataset",
          "x": 0.8400000000000001,
          "xanchor": "center",
          "xref": "paper",
          "y": 0.26666666666666666,
          "yanchor": "bottom",
          "yref": "paper"
         }
        ],
        "barmode": "group",
        "height": 900,
        "showlegend": true,
        "template": {
         "data": {
          "bar": [
           {
            "error_x": {
             "color": "#2a3f5f"
            },
            "error_y": {
             "color": "#2a3f5f"
            },
            "marker": {
             "line": {
              "color": "#E5ECF6",
              "width": 0.5
             },
             "pattern": {
              "fillmode": "overlay",
              "size": 10,
              "solidity": 0.2
             }
            },
            "type": "bar"
           }
          ],
          "barpolar": [
           {
            "marker": {
             "line": {
              "color": "#E5ECF6",
              "width": 0.5
             },
             "pattern": {
              "fillmode": "overlay",
              "size": 10,
              "solidity": 0.2
             }
            },
            "type": "barpolar"
           }
          ],
          "carpet": [
           {
            "aaxis": {
             "endlinecolor": "#2a3f5f",
             "gridcolor": "white",
             "linecolor": "white",
             "minorgridcolor": "white",
             "startlinecolor": "#2a3f5f"
            },
            "baxis": {
             "endlinecolor": "#2a3f5f",
             "gridcolor": "white",
             "linecolor": "white",
             "minorgridcolor": "white",
             "startlinecolor": "#2a3f5f"
            },
            "type": "carpet"
           }
          ],
          "choropleth": [
           {
            "colorbar": {
             "outlinewidth": 0,
             "ticks": ""
            },
            "type": "choropleth"
           }
          ],
          "contour": [
           {
            "colorbar": {
             "outlinewidth": 0,
             "ticks": ""
            },
            "colorscale": [
             [
              0,
              "#0d0887"
             ],
             [
              0.1111111111111111,
              "#46039f"
             ],
             [
              0.2222222222222222,
              "#7201a8"
             ],
             [
              0.3333333333333333,
              "#9c179e"
             ],
             [
              0.4444444444444444,
              "#bd3786"
             ],
             [
              0.5555555555555556,
              "#d8576b"
             ],
             [
              0.6666666666666666,
              "#ed7953"
             ],
             [
              0.7777777777777778,
              "#fb9f3a"
             ],
             [
              0.8888888888888888,
              "#fdca26"
             ],
             [
              1,
              "#f0f921"
             ]
            ],
            "type": "contour"
           }
          ],
          "contourcarpet": [
           {
            "colorbar": {
             "outlinewidth": 0,
             "ticks": ""
            },
            "type": "contourcarpet"
           }
          ],
          "heatmap": [
           {
            "colorbar": {
             "outlinewidth": 0,
             "ticks": ""
            },
            "colorscale": [
             [
              0,
              "#0d0887"
             ],
             [
              0.1111111111111111,
              "#46039f"
             ],
             [
              0.2222222222222222,
              "#7201a8"
             ],
             [
              0.3333333333333333,
              "#9c179e"
             ],
             [
              0.4444444444444444,
              "#bd3786"
             ],
             [
              0.5555555555555556,
              "#d8576b"
             ],
             [
              0.6666666666666666,
              "#ed7953"
             ],
             [
              0.7777777777777778,
              "#fb9f3a"
             ],
             [
              0.8888888888888888,
              "#fdca26"
             ],
             [
              1,
              "#f0f921"
             ]
            ],
            "type": "heatmap"
           }
          ],
          "histogram": [
           {
            "marker": {
             "pattern": {
              "fillmode": "overlay",
              "size": 10,
              "solidity": 0.2
             }
            },
            "type": "histogram"
           }
          ],
          "histogram2d": [
           {
            "colorbar": {
             "outlinewidth": 0,
             "ticks": ""
            },
            "colorscale": [
             [
              0,
              "#0d0887"
             ],
             [
              0.1111111111111111,
              "#46039f"
             ],
             [
              0.2222222222222222,
              "#7201a8"
             ],
             [
              0.3333333333333333,
              "#9c179e"
             ],
             [
              0.4444444444444444,
              "#bd3786"
             ],
             [
              0.5555555555555556,
              "#d8576b"
             ],
             [
              0.6666666666666666,
              "#ed7953"
             ],
             [
              0.7777777777777778,
              "#fb9f3a"
             ],
             [
              0.8888888888888888,
              "#fdca26"
             ],
             [
              1,
              "#f0f921"
             ]
            ],
            "type": "histogram2d"
           }
          ],
          "histogram2dcontour": [
           {
            "colorbar": {
             "outlinewidth": 0,
             "ticks": ""
            },
            "colorscale": [
             [
              0,
              "#0d0887"
             ],
             [
              0.1111111111111111,
              "#46039f"
             ],
             [
              0.2222222222222222,
              "#7201a8"
             ],
             [
              0.3333333333333333,
              "#9c179e"
             ],
             [
              0.4444444444444444,
              "#bd3786"
             ],
             [
              0.5555555555555556,
              "#d8576b"
             ],
             [
              0.6666666666666666,
              "#ed7953"
             ],
             [
              0.7777777777777778,
              "#fb9f3a"
             ],
             [
              0.8888888888888888,
              "#fdca26"
             ],
             [
              1,
              "#f0f921"
             ]
            ],
            "type": "histogram2dcontour"
           }
          ],
          "mesh3d": [
           {
            "colorbar": {
             "outlinewidth": 0,
             "ticks": ""
            },
            "type": "mesh3d"
           }
          ],
          "parcoords": [
           {
            "line": {
             "colorbar": {
              "outlinewidth": 0,
              "ticks": ""
             }
            },
            "type": "parcoords"
           }
          ],
          "pie": [
           {
            "automargin": true,
            "type": "pie"
           }
          ],
          "scatter": [
           {
            "fillpattern": {
             "fillmode": "overlay",
             "size": 10,
             "solidity": 0.2
            },
            "type": "scatter"
           }
          ],
          "scatter3d": [
           {
            "line": {
             "colorbar": {
              "outlinewidth": 0,
              "ticks": ""
             }
            },
            "marker": {
             "colorbar": {
              "outlinewidth": 0,
              "ticks": ""
             }
            },
            "type": "scatter3d"
           }
          ],
          "scattercarpet": [
           {
            "marker": {
             "colorbar": {
              "outlinewidth": 0,
              "ticks": ""
             }
            },
            "type": "scattercarpet"
           }
          ],
          "scattergeo": [
           {
            "marker": {
             "colorbar": {
              "outlinewidth": 0,
              "ticks": ""
             }
            },
            "type": "scattergeo"
           }
          ],
          "scattergl": [
           {
            "marker": {
             "colorbar": {
              "outlinewidth": 0,
              "ticks": ""
             }
            },
            "type": "scattergl"
           }
          ],
          "scattermap": [
           {
            "marker": {
             "colorbar": {
              "outlinewidth": 0,
              "ticks": ""
             }
            },
            "type": "scattermap"
           }
          ],
          "scattermapbox": [
           {
            "marker": {
             "colorbar": {
              "outlinewidth": 0,
              "ticks": ""
             }
            },
            "type": "scattermapbox"
           }
          ],
          "scatterpolar": [
           {
            "marker": {
             "colorbar": {
              "outlinewidth": 0,
              "ticks": ""
             }
            },
            "type": "scatterpolar"
           }
          ],
          "scatterpolargl": [
           {
            "marker": {
             "colorbar": {
              "outlinewidth": 0,
              "ticks": ""
             }
            },
            "type": "scatterpolargl"
           }
          ],
          "scatterternary": [
           {
            "marker": {
             "colorbar": {
              "outlinewidth": 0,
              "ticks": ""
             }
            },
            "type": "scatterternary"
           }
          ],
          "surface": [
           {
            "colorbar": {
             "outlinewidth": 0,
             "ticks": ""
            },
            "colorscale": [
             [
              0,
              "#0d0887"
             ],
             [
              0.1111111111111111,
              "#46039f"
             ],
             [
              0.2222222222222222,
              "#7201a8"
             ],
             [
              0.3333333333333333,
              "#9c179e"
             ],
             [
              0.4444444444444444,
              "#bd3786"
             ],
             [
              0.5555555555555556,
              "#d8576b"
             ],
             [
              0.6666666666666666,
              "#ed7953"
             ],
             [
              0.7777777777777778,
              "#fb9f3a"
             ],
             [
              0.8888888888888888,
              "#fdca26"
             ],
             [
              1,
              "#f0f921"
             ]
            ],
            "type": "surface"
           }
          ],
          "table": [
           {
            "cells": {
             "fill": {
              "color": "#EBF0F8"
             },
             "line": {
              "color": "white"
             }
            },
            "header": {
             "fill": {
              "color": "#C8D4E3"
             },
             "line": {
              "color": "white"
             }
            },
            "type": "table"
           }
          ]
         },
         "layout": {
          "annotationdefaults": {
           "arrowcolor": "#2a3f5f",
           "arrowhead": 0,
           "arrowwidth": 1
          },
          "autotypenumbers": "strict",
          "coloraxis": {
           "colorbar": {
            "outlinewidth": 0,
            "ticks": ""
           }
          },
          "colorscale": {
           "diverging": [
            [
             0,
             "#8e0152"
            ],
            [
             0.1,
             "#c51b7d"
            ],
            [
             0.2,
             "#de77ae"
            ],
            [
             0.3,
             "#f1b6da"
            ],
            [
             0.4,
             "#fde0ef"
            ],
            [
             0.5,
             "#f7f7f7"
            ],
            [
             0.6,
             "#e6f5d0"
            ],
            [
             0.7,
             "#b8e186"
            ],
            [
             0.8,
             "#7fbc41"
            ],
            [
             0.9,
             "#4d9221"
            ],
            [
             1,
             "#276419"
            ]
           ],
           "sequential": [
            [
             0,
             "#0d0887"
            ],
            [
             0.1111111111111111,
             "#46039f"
            ],
            [
             0.2222222222222222,
             "#7201a8"
            ],
            [
             0.3333333333333333,
             "#9c179e"
            ],
            [
             0.4444444444444444,
             "#bd3786"
            ],
            [
             0.5555555555555556,
             "#d8576b"
            ],
            [
             0.6666666666666666,
             "#ed7953"
            ],
            [
             0.7777777777777778,
             "#fb9f3a"
            ],
            [
             0.8888888888888888,
             "#fdca26"
            ],
            [
             1,
             "#f0f921"
            ]
           ],
           "sequentialminus": [
            [
             0,
             "#0d0887"
            ],
            [
             0.1111111111111111,
             "#46039f"
            ],
            [
             0.2222222222222222,
             "#7201a8"
            ],
            [
             0.3333333333333333,
             "#9c179e"
            ],
            [
             0.4444444444444444,
             "#bd3786"
            ],
            [
             0.5555555555555556,
             "#d8576b"
            ],
            [
             0.6666666666666666,
             "#ed7953"
            ],
            [
             0.7777777777777778,
             "#fb9f3a"
            ],
            [
             0.8888888888888888,
             "#fdca26"
            ],
            [
             1,
             "#f0f921"
            ]
           ]
          },
          "colorway": [
           "#636efa",
           "#EF553B",
           "#00cc96",
           "#ab63fa",
           "#FFA15A",
           "#19d3f3",
           "#FF6692",
           "#B6E880",
           "#FF97FF",
           "#FECB52"
          ],
          "font": {
           "color": "#2a3f5f"
          },
          "geo": {
           "bgcolor": "white",
           "lakecolor": "white",
           "landcolor": "#E5ECF6",
           "showlakes": true,
           "showland": true,
           "subunitcolor": "white"
          },
          "hoverlabel": {
           "align": "left"
          },
          "hovermode": "closest",
          "mapbox": {
           "style": "light"
          },
          "paper_bgcolor": "white",
          "plot_bgcolor": "#E5ECF6",
          "polar": {
           "angularaxis": {
            "gridcolor": "white",
            "linecolor": "white",
            "ticks": ""
           },
           "bgcolor": "#E5ECF6",
           "radialaxis": {
            "gridcolor": "white",
            "linecolor": "white",
            "ticks": ""
           }
          },
          "scene": {
           "xaxis": {
            "backgroundcolor": "#E5ECF6",
            "gridcolor": "white",
            "gridwidth": 2,
            "linecolor": "white",
            "showbackground": true,
            "ticks": "",
            "zerolinecolor": "white"
           },
           "yaxis": {
            "backgroundcolor": "#E5ECF6",
            "gridcolor": "white",
            "gridwidth": 2,
            "linecolor": "white",
            "showbackground": true,
            "ticks": "",
            "zerolinecolor": "white"
           },
           "zaxis": {
            "backgroundcolor": "#E5ECF6",
            "gridcolor": "white",
            "gridwidth": 2,
            "linecolor": "white",
            "showbackground": true,
            "ticks": "",
            "zerolinecolor": "white"
           }
          },
          "shapedefaults": {
           "line": {
            "color": "#2a3f5f"
           }
          },
          "ternary": {
           "aaxis": {
            "gridcolor": "white",
            "linecolor": "white",
            "ticks": ""
           },
           "baxis": {
            "gridcolor": "white",
            "linecolor": "white",
            "ticks": ""
           },
           "bgcolor": "#E5ECF6",
           "caxis": {
            "gridcolor": "white",
            "linecolor": "white",
            "ticks": ""
           }
          },
          "title": {
           "x": 0.05
          },
          "xaxis": {
           "automargin": true,
           "gridcolor": "white",
           "linecolor": "white",
           "ticks": "",
           "title": {
            "standoff": 15
           },
           "zerolinecolor": "white",
           "zerolinewidth": 2
          },
          "yaxis": {
           "automargin": true,
           "gridcolor": "white",
           "linecolor": "white",
           "ticks": "",
           "title": {
            "standoff": 15
           },
           "zerolinecolor": "white",
           "zerolinewidth": 2
          }
         }
        },
        "title": {
         "text": "Metrics Comparison Across Models and Datasets"
        },
        "width": 1500,
        "xaxis": {
         "anchor": "y",
         "domain": [
          0,
          0.32
         ],
         "tickangle": -45
        },
        "xaxis2": {
         "anchor": "y2",
         "domain": [
          0.34,
          0.66
         ],
         "tickangle": -45
        },
        "xaxis3": {
         "anchor": "y3",
         "domain": [
          0.68,
          1
         ],
         "tickangle": -45
        },
        "xaxis4": {
         "anchor": "y4",
         "domain": [
          0,
          0.32
         ],
         "tickangle": -45
        },
        "xaxis5": {
         "anchor": "y5",
         "domain": [
          0.34,
          0.66
         ],
         "tickangle": -45
        },
        "xaxis6": {
         "anchor": "y6",
         "domain": [
          0.68,
          1
         ],
         "tickangle": -45
        },
        "xaxis7": {
         "anchor": "y7",
         "domain": [
          0,
          0.32
         ],
         "tickangle": -45
        },
        "xaxis8": {
         "anchor": "y8",
         "domain": [
          0.34,
          0.66
         ],
         "tickangle": -45
        },
        "xaxis9": {
         "anchor": "y9",
         "domain": [
          0.68,
          1
         ],
         "tickangle": -45
        },
        "yaxis": {
         "anchor": "x",
         "domain": [
          0.7333333333333334,
          1
         ]
        },
        "yaxis2": {
         "anchor": "x2",
         "domain": [
          0.7333333333333334,
          1
         ],
         "matches": "y",
         "showticklabels": false
        },
        "yaxis3": {
         "anchor": "x3",
         "domain": [
          0.7333333333333334,
          1
         ],
         "matches": "y",
         "showticklabels": false
        },
        "yaxis4": {
         "anchor": "x4",
         "domain": [
          0.3666666666666667,
          0.6333333333333333
         ]
        },
        "yaxis5": {
         "anchor": "x5",
         "domain": [
          0.3666666666666667,
          0.6333333333333333
         ],
         "matches": "y4",
         "showticklabels": false
        },
        "yaxis6": {
         "anchor": "x6",
         "domain": [
          0.3666666666666667,
          0.6333333333333333
         ],
         "matches": "y4",
         "showticklabels": false
        },
        "yaxis7": {
         "anchor": "x7",
         "domain": [
          0,
          0.26666666666666666
         ]
        },
        "yaxis8": {
         "anchor": "x8",
         "domain": [
          0,
          0.26666666666666666
         ],
         "matches": "y7",
         "showticklabels": false
        },
        "yaxis9": {
         "anchor": "x9",
         "domain": [
          0,
          0.26666666666666666
         ],
         "matches": "y7",
         "showticklabels": false
        }
       }
      }
     },
     "metadata": {},
     "output_type": "display_data"
    }
   ],
   "source": [
    "# Get unique values\n",
    "metrics = ['Accuracy', 'Precision', 'Recall']\n",
    "datasets = df_long['Omitted Dataset'].unique()\n",
    "num_rows = len(metrics)\n",
    "num_cols = len(datasets)\n",
    "\n",
    "# Create subplot figure\n",
    "fig = make_subplots(\n",
    "    rows=num_rows, cols=num_cols,\n",
    "    subplot_titles=[f\"{metric} - {dataset}\" for metric in metrics for dataset in datasets],\n",
    "    shared_yaxes=True,\n",
    "    horizontal_spacing=0.02,\n",
    "    vertical_spacing=0.1\n",
    ")\n",
    "\n",
    "# Define consistent colors for run types\n",
    "color_map = {\n",
    "    'basic': '#FFA15A',     # Blue\n",
    "    'advanced': '#636EFA'   # Orange\n",
    "}\n",
    "legend_added = set()\n",
    "\n",
    "# Add bar traces with fixed colors\n",
    "for row_idx, metric in enumerate(metrics, start=1):\n",
    "    for col_idx, dataset in enumerate(datasets, start=1):\n",
    "        sub = df_long[(df_long['Metric'] == metric) & (df_long['Omitted Dataset'] == dataset)]\n",
    "        sub = sub.sort_values(by='Model_base')\n",
    "\n",
    "        for run_type in sub['Run_type'].unique():\n",
    "            filtered = sub[sub['Run_type'] == run_type]\n",
    "            show_legend = run_type not in legend_added\n",
    "            legend_added.add(run_type)\n",
    "\n",
    "            fig.add_trace(\n",
    "                go.Bar(\n",
    "                    x=filtered['Model_base'],\n",
    "                    y=filtered['Value'],\n",
    "                    name=run_type,\n",
    "                    text=filtered['Value'].round(3),\n",
    "                    textposition='inside',\n",
    "                    marker_color=color_map[run_type],\n",
    "                    showlegend=show_legend  # <-- Only show legend once per run_type\n",
    "                ),\n",
    "                row=row_idx, col=col_idx\n",
    "            )\n",
    "\n",
    "# Update layout\n",
    "fig.update_layout(\n",
    "    height=300 * num_rows,\n",
    "    width=500 * num_cols,\n",
    "    title_text='Metrics Comparison Across Models and Datasets',\n",
    "    showlegend=True,\n",
    "    barmode='group'\n",
    ")\n",
    "\n",
    "fig.update_traces(textfont_color='white')\n",
    "fig.update_xaxes(tickangle=-45)\n",
    "fig.write_image('all_metrics_9x9.svg')\n",
    "fig.show()"
   ]
  },
  {
   "cell_type": "code",
   "execution_count": 52,
   "metadata": {},
   "outputs": [
    {
     "data": {
      "application/vnd.plotly.v1+json": {
       "config": {
        "plotlyServerURL": "https://plot.ly"
       },
       "data": [
        {
         "marker": {
          "color": "#FFA15A"
         },
         "name": "basic",
         "showlegend": true,
         "text": {
          "bdata": "ZDvfT42X4j/l0CLb+X7iP1TjpZvEIOg/sHJoke185z/2KFyPwvXkPw==",
          "dtype": "f8"
         },
         "textfont": {
          "color": "white"
         },
         "textposition": "inside",
         "type": "bar",
         "x": [
          "CLIP",
          "ResNet50",
          "SWIN",
          "ViT",
          "Xception"
         ],
         "xaxis": "x",
         "y": {
          "bdata": "Ke0NvjCZ4j97FK5H4XriP5Axdy0hH+g/kst/SL995z+62or9ZffkPw==",
          "dtype": "f8"
         },
         "yaxis": "y"
        },
        {
         "marker": {
          "color": "#636EFA"
         },
         "name": "advanced",
         "showlegend": true,
         "text": {
          "bdata": "8tJNYhBY7T956SYxCKzoPxBYObTIdu4/wcqhRbbz7T9iEFg5tMjuPw==",
          "dtype": "f8"
         },
         "textfont": {
          "color": "white"
         },
         "textposition": "inside",
         "type": "bar",
         "x": [
          "CLIP",
          "ResNet50",
          "SWIN",
          "ViT",
          "Xception"
         ],
         "xaxis": "x",
         "y": {
          "bdata": "ejarPldb7T+XkA96NqvoP6abxCCwcu4/oyO5/If07T/rc7UV+8vuPw==",
          "dtype": "f8"
         },
         "yaxis": "y"
        },
        {
         "marker": {
          "color": "#FFA15A"
         },
         "name": "basic",
         "showlegend": false,
         "text": {
          "bdata": "aJHtfD814j/jpZvEILDiPwAAAAAAAOg/sp3vp8ZL5z+e76fGSzflPw==",
          "dtype": "f8"
         },
         "textfont": {
          "color": "white"
         },
         "textposition": "inside",
         "type": "bar",
         "x": [
          "CLIP",
          "ResNet50",
          "SWIN",
          "ViT",
          "Xception"
         ],
         "xaxis": "x2",
         "y": {
          "bdata": "aJHtfD814j+KsOHplbLiP+JYF7fRAOg/7uvAOSNK5z+8lpAPejblPw==",
          "dtype": "f8"
         },
         "yaxis": "y2"
        },
        {
         "marker": {
          "color": "#636EFA"
         },
         "name": "advanced",
         "showlegend": false,
         "text": {
          "bdata": "kxgEVg4t7j/ufD81XrrpP5MYBFYOLe4/GQRWDi2y7T9mZmZmZmbuPw==",
          "dtype": "f8"
         },
         "textfont": {
          "color": "white"
         },
         "textposition": "inside",
         "type": "bar",
         "x": [
          "CLIP",
          "ResNet50",
          "SWIN",
          "ViT",
          "Xception"
         ],
         "xaxis": "x2",
         "y": {
          "bdata": "dnEbDeAt7j8LJCh+jLnpP+0NvjCZKu4/3bWEfNCz7T+itDf4wmTuPw==",
          "dtype": "f8"
         },
         "yaxis": "y2"
        },
        {
         "marker": {
          "color": "#FFA15A"
         },
         "name": "basic",
         "showlegend": false,
         "text": {
          "bdata": "QmDl0CLb4T9CYOXQItvhP1g5tMh2vuc/NV66SQwC5z81XrpJDALnPw==",
          "dtype": "f8"
         },
         "textfont": {
          "color": "white"
         },
         "textposition": "inside",
         "type": "bar",
         "x": [
          "CLIP",
          "ResNet50",
          "SWIN",
          "ViT",
          "Xception"
         ],
         "xaxis": "x3",
         "y": {
          "bdata": "16NwPQrX4T8kufyH9NvhP+58PzVeuuc/vsEXJlMF5z++wRcmUwXnPw==",
          "dtype": "f8"
         },
         "yaxis": "y3"
        },
        {
         "marker": {
          "color": "#636EFA"
         },
         "name": "advanced",
         "showlegend": false,
         "text": {
          "bdata": "8KfGSzeJ7T9QjZduEoPoP2q8dJMYBO4/QmDl0CLb7T++nxov3STuPw==",
          "dtype": "f8"
         },
         "textfont": {
          "color": "white"
         },
         "textposition": "inside",
         "type": "bar",
         "x": [
          "CLIP",
          "ResNet50",
          "SWIN",
          "ViT",
          "Xception"
         ],
         "xaxis": "x3",
         "y": {
          "bdata": "0gDeAgmK7T9QjZduEoPoP8SxLm6jAe4/ysNCrWne7T/67evAOSPuPw==",
          "dtype": "f8"
         },
         "yaxis": "y3"
        }
       ],
       "layout": {
        "annotations": [
         {
          "font": {
           "size": 16
          },
          "showarrow": false,
          "text": "Mean Conf. - DALL·E_dataset",
          "x": 0.16,
          "xanchor": "center",
          "xref": "paper",
          "y": 1,
          "yanchor": "bottom",
          "yref": "paper"
         },
         {
          "font": {
           "size": 16
          },
          "showarrow": false,
          "text": "Mean Conf. - IMAGEN_dataset",
          "x": 0.5,
          "xanchor": "center",
          "xref": "paper",
          "y": 1,
          "yanchor": "bottom",
          "yref": "paper"
         },
         {
          "font": {
           "size": 16
          },
          "showarrow": false,
          "text": "Mean Conf. - SD_dataset",
          "x": 0.8400000000000001,
          "xanchor": "center",
          "xref": "paper",
          "y": 1,
          "yanchor": "bottom",
          "yref": "paper"
         }
        ],
        "barmode": "group",
        "height": 400,
        "showlegend": true,
        "template": {
         "data": {
          "bar": [
           {
            "error_x": {
             "color": "#2a3f5f"
            },
            "error_y": {
             "color": "#2a3f5f"
            },
            "marker": {
             "line": {
              "color": "#E5ECF6",
              "width": 0.5
             },
             "pattern": {
              "fillmode": "overlay",
              "size": 10,
              "solidity": 0.2
             }
            },
            "type": "bar"
           }
          ],
          "barpolar": [
           {
            "marker": {
             "line": {
              "color": "#E5ECF6",
              "width": 0.5
             },
             "pattern": {
              "fillmode": "overlay",
              "size": 10,
              "solidity": 0.2
             }
            },
            "type": "barpolar"
           }
          ],
          "carpet": [
           {
            "aaxis": {
             "endlinecolor": "#2a3f5f",
             "gridcolor": "white",
             "linecolor": "white",
             "minorgridcolor": "white",
             "startlinecolor": "#2a3f5f"
            },
            "baxis": {
             "endlinecolor": "#2a3f5f",
             "gridcolor": "white",
             "linecolor": "white",
             "minorgridcolor": "white",
             "startlinecolor": "#2a3f5f"
            },
            "type": "carpet"
           }
          ],
          "choropleth": [
           {
            "colorbar": {
             "outlinewidth": 0,
             "ticks": ""
            },
            "type": "choropleth"
           }
          ],
          "contour": [
           {
            "colorbar": {
             "outlinewidth": 0,
             "ticks": ""
            },
            "colorscale": [
             [
              0,
              "#0d0887"
             ],
             [
              0.1111111111111111,
              "#46039f"
             ],
             [
              0.2222222222222222,
              "#7201a8"
             ],
             [
              0.3333333333333333,
              "#9c179e"
             ],
             [
              0.4444444444444444,
              "#bd3786"
             ],
             [
              0.5555555555555556,
              "#d8576b"
             ],
             [
              0.6666666666666666,
              "#ed7953"
             ],
             [
              0.7777777777777778,
              "#fb9f3a"
             ],
             [
              0.8888888888888888,
              "#fdca26"
             ],
             [
              1,
              "#f0f921"
             ]
            ],
            "type": "contour"
           }
          ],
          "contourcarpet": [
           {
            "colorbar": {
             "outlinewidth": 0,
             "ticks": ""
            },
            "type": "contourcarpet"
           }
          ],
          "heatmap": [
           {
            "colorbar": {
             "outlinewidth": 0,
             "ticks": ""
            },
            "colorscale": [
             [
              0,
              "#0d0887"
             ],
             [
              0.1111111111111111,
              "#46039f"
             ],
             [
              0.2222222222222222,
              "#7201a8"
             ],
             [
              0.3333333333333333,
              "#9c179e"
             ],
             [
              0.4444444444444444,
              "#bd3786"
             ],
             [
              0.5555555555555556,
              "#d8576b"
             ],
             [
              0.6666666666666666,
              "#ed7953"
             ],
             [
              0.7777777777777778,
              "#fb9f3a"
             ],
             [
              0.8888888888888888,
              "#fdca26"
             ],
             [
              1,
              "#f0f921"
             ]
            ],
            "type": "heatmap"
           }
          ],
          "histogram": [
           {
            "marker": {
             "pattern": {
              "fillmode": "overlay",
              "size": 10,
              "solidity": 0.2
             }
            },
            "type": "histogram"
           }
          ],
          "histogram2d": [
           {
            "colorbar": {
             "outlinewidth": 0,
             "ticks": ""
            },
            "colorscale": [
             [
              0,
              "#0d0887"
             ],
             [
              0.1111111111111111,
              "#46039f"
             ],
             [
              0.2222222222222222,
              "#7201a8"
             ],
             [
              0.3333333333333333,
              "#9c179e"
             ],
             [
              0.4444444444444444,
              "#bd3786"
             ],
             [
              0.5555555555555556,
              "#d8576b"
             ],
             [
              0.6666666666666666,
              "#ed7953"
             ],
             [
              0.7777777777777778,
              "#fb9f3a"
             ],
             [
              0.8888888888888888,
              "#fdca26"
             ],
             [
              1,
              "#f0f921"
             ]
            ],
            "type": "histogram2d"
           }
          ],
          "histogram2dcontour": [
           {
            "colorbar": {
             "outlinewidth": 0,
             "ticks": ""
            },
            "colorscale": [
             [
              0,
              "#0d0887"
             ],
             [
              0.1111111111111111,
              "#46039f"
             ],
             [
              0.2222222222222222,
              "#7201a8"
             ],
             [
              0.3333333333333333,
              "#9c179e"
             ],
             [
              0.4444444444444444,
              "#bd3786"
             ],
             [
              0.5555555555555556,
              "#d8576b"
             ],
             [
              0.6666666666666666,
              "#ed7953"
             ],
             [
              0.7777777777777778,
              "#fb9f3a"
             ],
             [
              0.8888888888888888,
              "#fdca26"
             ],
             [
              1,
              "#f0f921"
             ]
            ],
            "type": "histogram2dcontour"
           }
          ],
          "mesh3d": [
           {
            "colorbar": {
             "outlinewidth": 0,
             "ticks": ""
            },
            "type": "mesh3d"
           }
          ],
          "parcoords": [
           {
            "line": {
             "colorbar": {
              "outlinewidth": 0,
              "ticks": ""
             }
            },
            "type": "parcoords"
           }
          ],
          "pie": [
           {
            "automargin": true,
            "type": "pie"
           }
          ],
          "scatter": [
           {
            "fillpattern": {
             "fillmode": "overlay",
             "size": 10,
             "solidity": 0.2
            },
            "type": "scatter"
           }
          ],
          "scatter3d": [
           {
            "line": {
             "colorbar": {
              "outlinewidth": 0,
              "ticks": ""
             }
            },
            "marker": {
             "colorbar": {
              "outlinewidth": 0,
              "ticks": ""
             }
            },
            "type": "scatter3d"
           }
          ],
          "scattercarpet": [
           {
            "marker": {
             "colorbar": {
              "outlinewidth": 0,
              "ticks": ""
             }
            },
            "type": "scattercarpet"
           }
          ],
          "scattergeo": [
           {
            "marker": {
             "colorbar": {
              "outlinewidth": 0,
              "ticks": ""
             }
            },
            "type": "scattergeo"
           }
          ],
          "scattergl": [
           {
            "marker": {
             "colorbar": {
              "outlinewidth": 0,
              "ticks": ""
             }
            },
            "type": "scattergl"
           }
          ],
          "scattermap": [
           {
            "marker": {
             "colorbar": {
              "outlinewidth": 0,
              "ticks": ""
             }
            },
            "type": "scattermap"
           }
          ],
          "scattermapbox": [
           {
            "marker": {
             "colorbar": {
              "outlinewidth": 0,
              "ticks": ""
             }
            },
            "type": "scattermapbox"
           }
          ],
          "scatterpolar": [
           {
            "marker": {
             "colorbar": {
              "outlinewidth": 0,
              "ticks": ""
             }
            },
            "type": "scatterpolar"
           }
          ],
          "scatterpolargl": [
           {
            "marker": {
             "colorbar": {
              "outlinewidth": 0,
              "ticks": ""
             }
            },
            "type": "scatterpolargl"
           }
          ],
          "scatterternary": [
           {
            "marker": {
             "colorbar": {
              "outlinewidth": 0,
              "ticks": ""
             }
            },
            "type": "scatterternary"
           }
          ],
          "surface": [
           {
            "colorbar": {
             "outlinewidth": 0,
             "ticks": ""
            },
            "colorscale": [
             [
              0,
              "#0d0887"
             ],
             [
              0.1111111111111111,
              "#46039f"
             ],
             [
              0.2222222222222222,
              "#7201a8"
             ],
             [
              0.3333333333333333,
              "#9c179e"
             ],
             [
              0.4444444444444444,
              "#bd3786"
             ],
             [
              0.5555555555555556,
              "#d8576b"
             ],
             [
              0.6666666666666666,
              "#ed7953"
             ],
             [
              0.7777777777777778,
              "#fb9f3a"
             ],
             [
              0.8888888888888888,
              "#fdca26"
             ],
             [
              1,
              "#f0f921"
             ]
            ],
            "type": "surface"
           }
          ],
          "table": [
           {
            "cells": {
             "fill": {
              "color": "#EBF0F8"
             },
             "line": {
              "color": "white"
             }
            },
            "header": {
             "fill": {
              "color": "#C8D4E3"
             },
             "line": {
              "color": "white"
             }
            },
            "type": "table"
           }
          ]
         },
         "layout": {
          "annotationdefaults": {
           "arrowcolor": "#2a3f5f",
           "arrowhead": 0,
           "arrowwidth": 1
          },
          "autotypenumbers": "strict",
          "coloraxis": {
           "colorbar": {
            "outlinewidth": 0,
            "ticks": ""
           }
          },
          "colorscale": {
           "diverging": [
            [
             0,
             "#8e0152"
            ],
            [
             0.1,
             "#c51b7d"
            ],
            [
             0.2,
             "#de77ae"
            ],
            [
             0.3,
             "#f1b6da"
            ],
            [
             0.4,
             "#fde0ef"
            ],
            [
             0.5,
             "#f7f7f7"
            ],
            [
             0.6,
             "#e6f5d0"
            ],
            [
             0.7,
             "#b8e186"
            ],
            [
             0.8,
             "#7fbc41"
            ],
            [
             0.9,
             "#4d9221"
            ],
            [
             1,
             "#276419"
            ]
           ],
           "sequential": [
            [
             0,
             "#0d0887"
            ],
            [
             0.1111111111111111,
             "#46039f"
            ],
            [
             0.2222222222222222,
             "#7201a8"
            ],
            [
             0.3333333333333333,
             "#9c179e"
            ],
            [
             0.4444444444444444,
             "#bd3786"
            ],
            [
             0.5555555555555556,
             "#d8576b"
            ],
            [
             0.6666666666666666,
             "#ed7953"
            ],
            [
             0.7777777777777778,
             "#fb9f3a"
            ],
            [
             0.8888888888888888,
             "#fdca26"
            ],
            [
             1,
             "#f0f921"
            ]
           ],
           "sequentialminus": [
            [
             0,
             "#0d0887"
            ],
            [
             0.1111111111111111,
             "#46039f"
            ],
            [
             0.2222222222222222,
             "#7201a8"
            ],
            [
             0.3333333333333333,
             "#9c179e"
            ],
            [
             0.4444444444444444,
             "#bd3786"
            ],
            [
             0.5555555555555556,
             "#d8576b"
            ],
            [
             0.6666666666666666,
             "#ed7953"
            ],
            [
             0.7777777777777778,
             "#fb9f3a"
            ],
            [
             0.8888888888888888,
             "#fdca26"
            ],
            [
             1,
             "#f0f921"
            ]
           ]
          },
          "colorway": [
           "#636efa",
           "#EF553B",
           "#00cc96",
           "#ab63fa",
           "#FFA15A",
           "#19d3f3",
           "#FF6692",
           "#B6E880",
           "#FF97FF",
           "#FECB52"
          ],
          "font": {
           "color": "#2a3f5f"
          },
          "geo": {
           "bgcolor": "white",
           "lakecolor": "white",
           "landcolor": "#E5ECF6",
           "showlakes": true,
           "showland": true,
           "subunitcolor": "white"
          },
          "hoverlabel": {
           "align": "left"
          },
          "hovermode": "closest",
          "mapbox": {
           "style": "light"
          },
          "paper_bgcolor": "white",
          "plot_bgcolor": "#E5ECF6",
          "polar": {
           "angularaxis": {
            "gridcolor": "white",
            "linecolor": "white",
            "ticks": ""
           },
           "bgcolor": "#E5ECF6",
           "radialaxis": {
            "gridcolor": "white",
            "linecolor": "white",
            "ticks": ""
           }
          },
          "scene": {
           "xaxis": {
            "backgroundcolor": "#E5ECF6",
            "gridcolor": "white",
            "gridwidth": 2,
            "linecolor": "white",
            "showbackground": true,
            "ticks": "",
            "zerolinecolor": "white"
           },
           "yaxis": {
            "backgroundcolor": "#E5ECF6",
            "gridcolor": "white",
            "gridwidth": 2,
            "linecolor": "white",
            "showbackground": true,
            "ticks": "",
            "zerolinecolor": "white"
           },
           "zaxis": {
            "backgroundcolor": "#E5ECF6",
            "gridcolor": "white",
            "gridwidth": 2,
            "linecolor": "white",
            "showbackground": true,
            "ticks": "",
            "zerolinecolor": "white"
           }
          },
          "shapedefaults": {
           "line": {
            "color": "#2a3f5f"
           }
          },
          "ternary": {
           "aaxis": {
            "gridcolor": "white",
            "linecolor": "white",
            "ticks": ""
           },
           "baxis": {
            "gridcolor": "white",
            "linecolor": "white",
            "ticks": ""
           },
           "bgcolor": "#E5ECF6",
           "caxis": {
            "gridcolor": "white",
            "linecolor": "white",
            "ticks": ""
           }
          },
          "title": {
           "x": 0.05
          },
          "xaxis": {
           "automargin": true,
           "gridcolor": "white",
           "linecolor": "white",
           "ticks": "",
           "title": {
            "standoff": 15
           },
           "zerolinecolor": "white",
           "zerolinewidth": 2
          },
          "yaxis": {
           "automargin": true,
           "gridcolor": "white",
           "linecolor": "white",
           "ticks": "",
           "title": {
            "standoff": 15
           },
           "zerolinecolor": "white",
           "zerolinewidth": 2
          }
         }
        },
        "title": {
         "text": "Metrics Comparison Across Models and Datasets"
        },
        "width": 1500,
        "xaxis": {
         "anchor": "y",
         "domain": [
          0,
          0.32
         ],
         "tickangle": -45
        },
        "xaxis2": {
         "anchor": "y2",
         "domain": [
          0.34,
          0.66
         ],
         "tickangle": -45
        },
        "xaxis3": {
         "anchor": "y3",
         "domain": [
          0.68,
          1
         ],
         "tickangle": -45
        },
        "yaxis": {
         "anchor": "x",
         "domain": [
          0,
          1
         ]
        },
        "yaxis2": {
         "anchor": "x2",
         "domain": [
          0,
          1
         ],
         "matches": "y",
         "showticklabels": false
        },
        "yaxis3": {
         "anchor": "x3",
         "domain": [
          0,
          1
         ],
         "matches": "y",
         "showticklabels": false
        }
       }
      }
     },
     "metadata": {},
     "output_type": "display_data"
    }
   ],
   "source": [
    "# Get unique values\n",
    "metrics = ['Mean Conf.']\n",
    "datasets = df_long['Omitted Dataset'].unique()\n",
    "num_rows = len(metrics)\n",
    "num_cols = len(datasets)\n",
    "\n",
    "# Create subplot figure\n",
    "fig = make_subplots(\n",
    "    rows=num_rows, cols=num_cols,\n",
    "    subplot_titles=[f\"{metric} - {dataset}\" for metric in metrics for dataset in datasets],\n",
    "    shared_yaxes=True,\n",
    "    horizontal_spacing=0.02,\n",
    "    vertical_spacing=0.1\n",
    ")\n",
    "\n",
    "# Define consistent colors for run types\n",
    "color_map = {\n",
    "    'basic': '#FFA15A',     # Blue\n",
    "    'advanced': '#636EFA'   # Orange\n",
    "}\n",
    "legend_added = set()\n",
    "\n",
    "# Add bar traces with fixed colors\n",
    "for row_idx, metric in enumerate(metrics, start=1):\n",
    "    for col_idx, dataset in enumerate(datasets, start=1):\n",
    "        sub = df_long[(df_long['Metric'] == metric) & (df_long['Omitted Dataset'] == dataset)]\n",
    "        sub = sub.sort_values(by='Model_base')\n",
    "\n",
    "        for run_type in sub['Run_type'].unique():\n",
    "            filtered = sub[sub['Run_type'] == run_type]\n",
    "            show_legend = run_type not in legend_added\n",
    "            legend_added.add(run_type)\n",
    "\n",
    "            fig.add_trace(\n",
    "                go.Bar(\n",
    "                    x=filtered['Model_base'],\n",
    "                    y=filtered['Value'],\n",
    "                    name=run_type,\n",
    "                    text=filtered['Value'].round(3),\n",
    "                    textposition='inside',\n",
    "                    marker_color=color_map[run_type],\n",
    "                    showlegend=show_legend  # <-- Only show legend once per run_type\n",
    "                ),\n",
    "                row=row_idx, col=col_idx\n",
    "            )\n",
    "\n",
    "# Update layout\n",
    "fig.update_layout(\n",
    "    height=400 * num_rows,\n",
    "    width=500 * num_cols,\n",
    "    title_text='Metrics Comparison Across Models and Datasets',\n",
    "    showlegend=True,\n",
    "    barmode='group'\n",
    ")\n",
    "\n",
    "fig.update_traces(textfont_color='white')\n",
    "fig.update_xaxes(tickangle=-45)\n",
    "fig.write_image('all_metrics_9x9.svg')\n",
    "fig.show()"
   ]
  },
  {
   "cell_type": "code",
   "execution_count": 53,
   "metadata": {},
   "outputs": [
    {
     "data": {
      "text/html": [
       "<div>\n",
       "<style scoped>\n",
       "    .dataframe tbody tr th:only-of-type {\n",
       "        vertical-align: middle;\n",
       "    }\n",
       "\n",
       "    .dataframe tbody tr th {\n",
       "        vertical-align: top;\n",
       "    }\n",
       "\n",
       "    .dataframe thead th {\n",
       "        text-align: right;\n",
       "    }\n",
       "</style>\n",
       "<table border=\"1\" class=\"dataframe\">\n",
       "  <thead>\n",
       "    <tr style=\"text-align: right;\">\n",
       "      <th></th>\n",
       "      <th>Metric</th>\n",
       "      <th>CLIP_basic</th>\n",
       "      <th>CLIP_advanced</th>\n",
       "      <th>ResNet50_basic</th>\n",
       "      <th>ResNet50_advanced</th>\n",
       "      <th>SWIN_basic</th>\n",
       "      <th>SWIN_advanced</th>\n",
       "      <th>ViT_basic</th>\n",
       "      <th>ViT_advanced</th>\n",
       "      <th>Xception_basic</th>\n",
       "      <th>Xception_advanced</th>\n",
       "    </tr>\n",
       "  </thead>\n",
       "  <tbody>\n",
       "    <tr>\n",
       "      <th>0</th>\n",
       "      <td>Accuracy</td>\n",
       "      <td>0.7828</td>\n",
       "      <td>0.9256</td>\n",
       "      <td>0.7500</td>\n",
       "      <td>0.8537</td>\n",
       "      <td>0.8449</td>\n",
       "      <td>0.9671</td>\n",
       "      <td>0.7660</td>\n",
       "      <td>0.9233</td>\n",
       "      <td>0.7506</td>\n",
       "      <td>0.9493</td>\n",
       "    </tr>\n",
       "    <tr>\n",
       "      <th>1</th>\n",
       "      <td>Precision</td>\n",
       "      <td>0.7851</td>\n",
       "      <td>0.9287</td>\n",
       "      <td>0.7506</td>\n",
       "      <td>0.8550</td>\n",
       "      <td>0.8452</td>\n",
       "      <td>0.9672</td>\n",
       "      <td>0.7664</td>\n",
       "      <td>0.9292</td>\n",
       "      <td>0.7528</td>\n",
       "      <td>0.9502</td>\n",
       "    </tr>\n",
       "    <tr>\n",
       "      <th>2</th>\n",
       "      <td>Recall</td>\n",
       "      <td>0.7828</td>\n",
       "      <td>0.9256</td>\n",
       "      <td>0.7500</td>\n",
       "      <td>0.8537</td>\n",
       "      <td>0.8449</td>\n",
       "      <td>0.9671</td>\n",
       "      <td>0.7660</td>\n",
       "      <td>0.9233</td>\n",
       "      <td>0.7506</td>\n",
       "      <td>0.9493</td>\n",
       "    </tr>\n",
       "    <tr>\n",
       "      <th>3</th>\n",
       "      <td>F1-score</td>\n",
       "      <td>0.7824</td>\n",
       "      <td>0.9255</td>\n",
       "      <td>0.7498</td>\n",
       "      <td>0.8536</td>\n",
       "      <td>0.8449</td>\n",
       "      <td>0.9671</td>\n",
       "      <td>0.7659</td>\n",
       "      <td>0.9227</td>\n",
       "      <td>0.7500</td>\n",
       "      <td>0.9493</td>\n",
       "    </tr>\n",
       "    <tr>\n",
       "      <th>4</th>\n",
       "      <td>Mean Confidence</td>\n",
       "      <td>0.5879</td>\n",
       "      <td>0.9438</td>\n",
       "      <td>0.5813</td>\n",
       "      <td>0.8206</td>\n",
       "      <td>0.7691</td>\n",
       "      <td>0.9725</td>\n",
       "      <td>0.7394</td>\n",
       "      <td>0.9555</td>\n",
       "      <td>0.6682</td>\n",
       "      <td>0.9732</td>\n",
       "    </tr>\n",
       "    <tr>\n",
       "      <th>5</th>\n",
       "      <td>High Coverage</td>\n",
       "      <td>0.0000</td>\n",
       "      <td>0.8252</td>\n",
       "      <td>0.0000</td>\n",
       "      <td>0.4161</td>\n",
       "      <td>0.2461</td>\n",
       "      <td>0.9155</td>\n",
       "      <td>0.1670</td>\n",
       "      <td>0.8604</td>\n",
       "      <td>0.0339</td>\n",
       "      <td>0.9142</td>\n",
       "    </tr>\n",
       "    <tr>\n",
       "      <th>6</th>\n",
       "      <td>High Accuracy</td>\n",
       "      <td>0.0000</td>\n",
       "      <td>0.9730</td>\n",
       "      <td>0.0000</td>\n",
       "      <td>0.9791</td>\n",
       "      <td>0.9858</td>\n",
       "      <td>0.9892</td>\n",
       "      <td>0.9505</td>\n",
       "      <td>0.9656</td>\n",
       "      <td>0.9850</td>\n",
       "      <td>0.9765</td>\n",
       "    </tr>\n",
       "  </tbody>\n",
       "</table>\n",
       "</div>"
      ],
      "text/plain": [
       "            Metric  CLIP_basic  CLIP_advanced  ResNet50_basic  \\\n",
       "0         Accuracy      0.7828         0.9256          0.7500   \n",
       "1        Precision      0.7851         0.9287          0.7506   \n",
       "2           Recall      0.7828         0.9256          0.7500   \n",
       "3         F1-score      0.7824         0.9255          0.7498   \n",
       "4  Mean Confidence      0.5879         0.9438          0.5813   \n",
       "5    High Coverage      0.0000         0.8252          0.0000   \n",
       "6    High Accuracy      0.0000         0.9730          0.0000   \n",
       "\n",
       "   ResNet50_advanced  SWIN_basic  SWIN_advanced  ViT_basic  ViT_advanced  \\\n",
       "0             0.8537      0.8449         0.9671     0.7660        0.9233   \n",
       "1             0.8550      0.8452         0.9672     0.7664        0.9292   \n",
       "2             0.8537      0.8449         0.9671     0.7660        0.9233   \n",
       "3             0.8536      0.8449         0.9671     0.7659        0.9227   \n",
       "4             0.8206      0.7691         0.9725     0.7394        0.9555   \n",
       "5             0.4161      0.2461         0.9155     0.1670        0.8604   \n",
       "6             0.9791      0.9858         0.9892     0.9505        0.9656   \n",
       "\n",
       "   Xception_basic  Xception_advanced  \n",
       "0          0.7506             0.9493  \n",
       "1          0.7528             0.9502  \n",
       "2          0.7506             0.9493  \n",
       "3          0.7500             0.9493  \n",
       "4          0.6682             0.9732  \n",
       "5          0.0339             0.9142  \n",
       "6          0.9850             0.9765  "
      ]
     },
     "execution_count": 53,
     "metadata": {},
     "output_type": "execute_result"
    }
   ],
   "source": [
    "df_shuffle = pd.read_csv('shuffle.csv')\n",
    "df_shuffle"
   ]
  },
  {
   "cell_type": "code",
   "execution_count": 73,
   "metadata": {},
   "outputs": [
    {
     "data": {
      "application/vnd.plotly.v1+json": {
       "config": {
        "plotlyServerURL": "https://plot.ly"
       },
       "data": [
        {
         "alignmentgroup": "True",
         "hovertemplate": "Version=basic<br>Model=%{x}<br>Mean Confidence=%{text}<extra></extra>",
         "legendgroup": "basic",
         "marker": {
          "color": "#FFA15A",
          "pattern": {
           "shape": ""
          }
         },
         "name": "basic",
         "offsetgroup": "basic",
         "orientation": "v",
         "showlegend": true,
         "text": {
          "bdata": "VTAqqRPQ4j8LRiV1ApriP7FQa5p3nOg/YTJVMCqp5z+L/WX35GHlPw==",
          "dtype": "f8"
         },
         "textfont": {
          "color": "white"
         },
         "textposition": "inside",
         "texttemplate": "%{text:.2f}",
         "type": "bar",
         "x": [
          "CLIP",
          "ResNet50",
          "SWIN",
          "ViT",
          "Xception"
         ],
         "xaxis": "x",
         "y": {
          "bdata": "VTAqqRPQ4j8LRiV1ApriP7FQa5p3nOg/YTJVMCqp5z+L/WX35GHlPw==",
          "dtype": "f8"
         },
         "yaxis": "y"
        },
        {
         "alignmentgroup": "True",
         "hovertemplate": "Version=advanced<br>Model=%{x}<br>Mean Confidence=%{text}<extra></extra>",
         "legendgroup": "advanced",
         "marker": {
          "color": "#636EFA",
          "pattern": {
           "shape": ""
          }
         },
         "name": "advanced",
         "offsetgroup": "advanced",
         "orientation": "v",
         "showlegend": true,
         "text": {
          "bdata": "pN++Dpwz7j+KH2PuWkLqPx+F61G4Hu8/+n5qvHST7j9N845TdCTvPw==",
          "dtype": "f8"
         },
         "textfont": {
          "color": "white"
         },
         "textposition": "inside",
         "texttemplate": "%{text:.2f}",
         "type": "bar",
         "x": [
          "CLIP",
          "ResNet50",
          "SWIN",
          "ViT",
          "Xception"
         ],
         "xaxis": "x",
         "y": {
          "bdata": "pN++Dpwz7j+KH2PuWkLqPx+F61G4Hu8/+n5qvHST7j9N845TdCTvPw==",
          "dtype": "f8"
         },
         "yaxis": "y"
        }
       ],
       "layout": {
        "barmode": "group",
        "legend": {
         "title": {
          "text": "Version"
         },
         "tracegroupgap": 0
        },
        "showlegend": true,
        "template": {
         "data": {
          "bar": [
           {
            "error_x": {
             "color": "#2a3f5f"
            },
            "error_y": {
             "color": "#2a3f5f"
            },
            "marker": {
             "line": {
              "color": "#E5ECF6",
              "width": 0.5
             },
             "pattern": {
              "fillmode": "overlay",
              "size": 10,
              "solidity": 0.2
             }
            },
            "type": "bar"
           }
          ],
          "barpolar": [
           {
            "marker": {
             "line": {
              "color": "#E5ECF6",
              "width": 0.5
             },
             "pattern": {
              "fillmode": "overlay",
              "size": 10,
              "solidity": 0.2
             }
            },
            "type": "barpolar"
           }
          ],
          "carpet": [
           {
            "aaxis": {
             "endlinecolor": "#2a3f5f",
             "gridcolor": "white",
             "linecolor": "white",
             "minorgridcolor": "white",
             "startlinecolor": "#2a3f5f"
            },
            "baxis": {
             "endlinecolor": "#2a3f5f",
             "gridcolor": "white",
             "linecolor": "white",
             "minorgridcolor": "white",
             "startlinecolor": "#2a3f5f"
            },
            "type": "carpet"
           }
          ],
          "choropleth": [
           {
            "colorbar": {
             "outlinewidth": 0,
             "ticks": ""
            },
            "type": "choropleth"
           }
          ],
          "contour": [
           {
            "colorbar": {
             "outlinewidth": 0,
             "ticks": ""
            },
            "colorscale": [
             [
              0,
              "#0d0887"
             ],
             [
              0.1111111111111111,
              "#46039f"
             ],
             [
              0.2222222222222222,
              "#7201a8"
             ],
             [
              0.3333333333333333,
              "#9c179e"
             ],
             [
              0.4444444444444444,
              "#bd3786"
             ],
             [
              0.5555555555555556,
              "#d8576b"
             ],
             [
              0.6666666666666666,
              "#ed7953"
             ],
             [
              0.7777777777777778,
              "#fb9f3a"
             ],
             [
              0.8888888888888888,
              "#fdca26"
             ],
             [
              1,
              "#f0f921"
             ]
            ],
            "type": "contour"
           }
          ],
          "contourcarpet": [
           {
            "colorbar": {
             "outlinewidth": 0,
             "ticks": ""
            },
            "type": "contourcarpet"
           }
          ],
          "heatmap": [
           {
            "colorbar": {
             "outlinewidth": 0,
             "ticks": ""
            },
            "colorscale": [
             [
              0,
              "#0d0887"
             ],
             [
              0.1111111111111111,
              "#46039f"
             ],
             [
              0.2222222222222222,
              "#7201a8"
             ],
             [
              0.3333333333333333,
              "#9c179e"
             ],
             [
              0.4444444444444444,
              "#bd3786"
             ],
             [
              0.5555555555555556,
              "#d8576b"
             ],
             [
              0.6666666666666666,
              "#ed7953"
             ],
             [
              0.7777777777777778,
              "#fb9f3a"
             ],
             [
              0.8888888888888888,
              "#fdca26"
             ],
             [
              1,
              "#f0f921"
             ]
            ],
            "type": "heatmap"
           }
          ],
          "histogram": [
           {
            "marker": {
             "pattern": {
              "fillmode": "overlay",
              "size": 10,
              "solidity": 0.2
             }
            },
            "type": "histogram"
           }
          ],
          "histogram2d": [
           {
            "colorbar": {
             "outlinewidth": 0,
             "ticks": ""
            },
            "colorscale": [
             [
              0,
              "#0d0887"
             ],
             [
              0.1111111111111111,
              "#46039f"
             ],
             [
              0.2222222222222222,
              "#7201a8"
             ],
             [
              0.3333333333333333,
              "#9c179e"
             ],
             [
              0.4444444444444444,
              "#bd3786"
             ],
             [
              0.5555555555555556,
              "#d8576b"
             ],
             [
              0.6666666666666666,
              "#ed7953"
             ],
             [
              0.7777777777777778,
              "#fb9f3a"
             ],
             [
              0.8888888888888888,
              "#fdca26"
             ],
             [
              1,
              "#f0f921"
             ]
            ],
            "type": "histogram2d"
           }
          ],
          "histogram2dcontour": [
           {
            "colorbar": {
             "outlinewidth": 0,
             "ticks": ""
            },
            "colorscale": [
             [
              0,
              "#0d0887"
             ],
             [
              0.1111111111111111,
              "#46039f"
             ],
             [
              0.2222222222222222,
              "#7201a8"
             ],
             [
              0.3333333333333333,
              "#9c179e"
             ],
             [
              0.4444444444444444,
              "#bd3786"
             ],
             [
              0.5555555555555556,
              "#d8576b"
             ],
             [
              0.6666666666666666,
              "#ed7953"
             ],
             [
              0.7777777777777778,
              "#fb9f3a"
             ],
             [
              0.8888888888888888,
              "#fdca26"
             ],
             [
              1,
              "#f0f921"
             ]
            ],
            "type": "histogram2dcontour"
           }
          ],
          "mesh3d": [
           {
            "colorbar": {
             "outlinewidth": 0,
             "ticks": ""
            },
            "type": "mesh3d"
           }
          ],
          "parcoords": [
           {
            "line": {
             "colorbar": {
              "outlinewidth": 0,
              "ticks": ""
             }
            },
            "type": "parcoords"
           }
          ],
          "pie": [
           {
            "automargin": true,
            "type": "pie"
           }
          ],
          "scatter": [
           {
            "fillpattern": {
             "fillmode": "overlay",
             "size": 10,
             "solidity": 0.2
            },
            "type": "scatter"
           }
          ],
          "scatter3d": [
           {
            "line": {
             "colorbar": {
              "outlinewidth": 0,
              "ticks": ""
             }
            },
            "marker": {
             "colorbar": {
              "outlinewidth": 0,
              "ticks": ""
             }
            },
            "type": "scatter3d"
           }
          ],
          "scattercarpet": [
           {
            "marker": {
             "colorbar": {
              "outlinewidth": 0,
              "ticks": ""
             }
            },
            "type": "scattercarpet"
           }
          ],
          "scattergeo": [
           {
            "marker": {
             "colorbar": {
              "outlinewidth": 0,
              "ticks": ""
             }
            },
            "type": "scattergeo"
           }
          ],
          "scattergl": [
           {
            "marker": {
             "colorbar": {
              "outlinewidth": 0,
              "ticks": ""
             }
            },
            "type": "scattergl"
           }
          ],
          "scattermap": [
           {
            "marker": {
             "colorbar": {
              "outlinewidth": 0,
              "ticks": ""
             }
            },
            "type": "scattermap"
           }
          ],
          "scattermapbox": [
           {
            "marker": {
             "colorbar": {
              "outlinewidth": 0,
              "ticks": ""
             }
            },
            "type": "scattermapbox"
           }
          ],
          "scatterpolar": [
           {
            "marker": {
             "colorbar": {
              "outlinewidth": 0,
              "ticks": ""
             }
            },
            "type": "scatterpolar"
           }
          ],
          "scatterpolargl": [
           {
            "marker": {
             "colorbar": {
              "outlinewidth": 0,
              "ticks": ""
             }
            },
            "type": "scatterpolargl"
           }
          ],
          "scatterternary": [
           {
            "marker": {
             "colorbar": {
              "outlinewidth": 0,
              "ticks": ""
             }
            },
            "type": "scatterternary"
           }
          ],
          "surface": [
           {
            "colorbar": {
             "outlinewidth": 0,
             "ticks": ""
            },
            "colorscale": [
             [
              0,
              "#0d0887"
             ],
             [
              0.1111111111111111,
              "#46039f"
             ],
             [
              0.2222222222222222,
              "#7201a8"
             ],
             [
              0.3333333333333333,
              "#9c179e"
             ],
             [
              0.4444444444444444,
              "#bd3786"
             ],
             [
              0.5555555555555556,
              "#d8576b"
             ],
             [
              0.6666666666666666,
              "#ed7953"
             ],
             [
              0.7777777777777778,
              "#fb9f3a"
             ],
             [
              0.8888888888888888,
              "#fdca26"
             ],
             [
              1,
              "#f0f921"
             ]
            ],
            "type": "surface"
           }
          ],
          "table": [
           {
            "cells": {
             "fill": {
              "color": "#EBF0F8"
             },
             "line": {
              "color": "white"
             }
            },
            "header": {
             "fill": {
              "color": "#C8D4E3"
             },
             "line": {
              "color": "white"
             }
            },
            "type": "table"
           }
          ]
         },
         "layout": {
          "annotationdefaults": {
           "arrowcolor": "#2a3f5f",
           "arrowhead": 0,
           "arrowwidth": 1
          },
          "autotypenumbers": "strict",
          "coloraxis": {
           "colorbar": {
            "outlinewidth": 0,
            "ticks": ""
           }
          },
          "colorscale": {
           "diverging": [
            [
             0,
             "#8e0152"
            ],
            [
             0.1,
             "#c51b7d"
            ],
            [
             0.2,
             "#de77ae"
            ],
            [
             0.3,
             "#f1b6da"
            ],
            [
             0.4,
             "#fde0ef"
            ],
            [
             0.5,
             "#f7f7f7"
            ],
            [
             0.6,
             "#e6f5d0"
            ],
            [
             0.7,
             "#b8e186"
            ],
            [
             0.8,
             "#7fbc41"
            ],
            [
             0.9,
             "#4d9221"
            ],
            [
             1,
             "#276419"
            ]
           ],
           "sequential": [
            [
             0,
             "#0d0887"
            ],
            [
             0.1111111111111111,
             "#46039f"
            ],
            [
             0.2222222222222222,
             "#7201a8"
            ],
            [
             0.3333333333333333,
             "#9c179e"
            ],
            [
             0.4444444444444444,
             "#bd3786"
            ],
            [
             0.5555555555555556,
             "#d8576b"
            ],
            [
             0.6666666666666666,
             "#ed7953"
            ],
            [
             0.7777777777777778,
             "#fb9f3a"
            ],
            [
             0.8888888888888888,
             "#fdca26"
            ],
            [
             1,
             "#f0f921"
            ]
           ],
           "sequentialminus": [
            [
             0,
             "#0d0887"
            ],
            [
             0.1111111111111111,
             "#46039f"
            ],
            [
             0.2222222222222222,
             "#7201a8"
            ],
            [
             0.3333333333333333,
             "#9c179e"
            ],
            [
             0.4444444444444444,
             "#bd3786"
            ],
            [
             0.5555555555555556,
             "#d8576b"
            ],
            [
             0.6666666666666666,
             "#ed7953"
            ],
            [
             0.7777777777777778,
             "#fb9f3a"
            ],
            [
             0.8888888888888888,
             "#fdca26"
            ],
            [
             1,
             "#f0f921"
            ]
           ]
          },
          "colorway": [
           "#636efa",
           "#EF553B",
           "#00cc96",
           "#ab63fa",
           "#FFA15A",
           "#19d3f3",
           "#FF6692",
           "#B6E880",
           "#FF97FF",
           "#FECB52"
          ],
          "font": {
           "color": "#2a3f5f"
          },
          "geo": {
           "bgcolor": "white",
           "lakecolor": "white",
           "landcolor": "#E5ECF6",
           "showlakes": true,
           "showland": true,
           "subunitcolor": "white"
          },
          "hoverlabel": {
           "align": "left"
          },
          "hovermode": "closest",
          "mapbox": {
           "style": "light"
          },
          "paper_bgcolor": "white",
          "plot_bgcolor": "#E5ECF6",
          "polar": {
           "angularaxis": {
            "gridcolor": "white",
            "linecolor": "white",
            "ticks": ""
           },
           "bgcolor": "#E5ECF6",
           "radialaxis": {
            "gridcolor": "white",
            "linecolor": "white",
            "ticks": ""
           }
          },
          "scene": {
           "xaxis": {
            "backgroundcolor": "#E5ECF6",
            "gridcolor": "white",
            "gridwidth": 2,
            "linecolor": "white",
            "showbackground": true,
            "ticks": "",
            "zerolinecolor": "white"
           },
           "yaxis": {
            "backgroundcolor": "#E5ECF6",
            "gridcolor": "white",
            "gridwidth": 2,
            "linecolor": "white",
            "showbackground": true,
            "ticks": "",
            "zerolinecolor": "white"
           },
           "zaxis": {
            "backgroundcolor": "#E5ECF6",
            "gridcolor": "white",
            "gridwidth": 2,
            "linecolor": "white",
            "showbackground": true,
            "ticks": "",
            "zerolinecolor": "white"
           }
          },
          "shapedefaults": {
           "line": {
            "color": "#2a3f5f"
           }
          },
          "ternary": {
           "aaxis": {
            "gridcolor": "white",
            "linecolor": "white",
            "ticks": ""
           },
           "baxis": {
            "gridcolor": "white",
            "linecolor": "white",
            "ticks": ""
           },
           "bgcolor": "#E5ECF6",
           "caxis": {
            "gridcolor": "white",
            "linecolor": "white",
            "ticks": ""
           }
          },
          "title": {
           "x": 0.05
          },
          "xaxis": {
           "automargin": true,
           "gridcolor": "white",
           "linecolor": "white",
           "ticks": "",
           "title": {
            "standoff": 15
           },
           "zerolinecolor": "white",
           "zerolinewidth": 2
          },
          "yaxis": {
           "automargin": true,
           "gridcolor": "white",
           "linecolor": "white",
           "ticks": "",
           "title": {
            "standoff": 15
           },
           "zerolinecolor": "white",
           "zerolinewidth": 2
          }
         }
        },
        "title": {
         "text": "Mean Confidence Comparison Across Models"
        },
        "uniformtext": {
         "minsize": 8
        },
        "xaxis": {
         "anchor": "y",
         "domain": [
          0,
          1
         ],
         "tickangle": -45,
         "title": {
          "text": "Model"
         }
        },
        "yaxis": {
         "anchor": "x",
         "domain": [
          0,
          1
         ],
         "range": [
          0,
          1
         ],
         "title": {
          "text": "Mean Confidence"
         }
        }
       }
      }
     },
     "metadata": {},
     "output_type": "display_data"
    }
   ],
   "source": [
    "# Filter only the row for \"Mean Confidence\"\n",
    "mean_conf_df = df_shuffle[df_shuffle['Metric'] == 'Mean Confidence']\n",
    "\n",
    "# Transpose and tidy up the data\n",
    "mean_conf_t = mean_conf_df.drop('Metric', axis=1).T.reset_index()\n",
    "mean_conf_t.columns = ['model_type', 'Mean Confidence']\n",
    "\n",
    "# Split model_type into model and version\n",
    "mean_conf_t[['Model', 'Version']] = mean_conf_t['model_type'].str.extract(r'(\\w+)_([\\w]+)')\n",
    "\n",
    "\n",
    "# Define custom color map\n",
    "color_map = {\n",
    "    'basic': '#FFA15A',     # Orange\n",
    "    'advanced': '#636EFA'   # Blue\n",
    "}\n",
    "\n",
    "# Plot using plotly express\n",
    "fig = px.bar(mean_conf_t,\n",
    "             x=\"Model\",\n",
    "             y=\"Mean Confidence\",\n",
    "             color=\"Version\",\n",
    "             barmode=\"group\",\n",
    "             text=\"Mean Confidence\",\n",
    "             color_discrete_map=color_map,\n",
    "             title=\"Mean Confidence Comparison Across Models\")\n",
    "\n",
    "# Format text on bars\n",
    "fig.update_traces(texttemplate='%{text:.2f}', textposition='inside', textfont_color='white')\n",
    "\n",
    "# Adjust layout\n",
    "fig.update_layout(\n",
    "    yaxis=dict(range=[0, 1]), \n",
    "    uniformtext_minsize=8,\n",
    "    showlegend=True,\n",
    "    barmode='group')\n",
    "\n",
    "# Rotate x-tick labels for each subplot\n",
    "fig.update_xaxes(tickangle=-45, row=1, col=1)\n",
    "\n",
    "fig.show()"
   ]
  },
  {
   "cell_type": "code",
   "execution_count": 71,
   "metadata": {},
   "outputs": [
    {
     "data": {
      "application/vnd.plotly.v1+json": {
       "config": {
        "plotlyServerURL": "https://plot.ly"
       },
       "data": [
        {
         "marker": {
          "color": "#FFA15A"
         },
         "name": "basic",
         "showlegend": true,
         "text": {
          "bdata": "9ihcj8L16D8AAAAAAADoP+F6FK5H4eo/pHA9Ctej6D8AAAAAAADoPw==",
          "dtype": "f8"
         },
         "textfont": {
          "color": "white"
         },
         "textposition": "inside",
         "type": "bar",
         "x": [
          "CLIP",
          "ResNet50",
          "SWIN",
          "ViT",
          "Xception"
         ],
         "xaxis": "x",
         "y": {
          "bdata": "seHplbIM6T8AAAAAAADoPyh+jLlrCes/UI2XbhKD6D9NFYxK6gToPw==",
          "dtype": "f8"
         },
         "yaxis": "y"
        },
        {
         "marker": {
          "color": "#636EFA"
         },
         "name": "advanced",
         "showlegend": true,
         "text": {
          "bdata": "w/UoXI/C7T8zMzMzMzPrPwrXo3A9Cu8/cT0K16Nw7T9mZmZmZmbuPw==",
          "dtype": "f8"
         },
         "textfont": {
          "color": "white"
         },
         "textposition": "inside",
         "type": "bar",
         "x": [
          "CLIP",
          "ResNet50",
          "SWIN",
          "ViT",
          "Xception"
         ],
         "xaxis": "x",
         "y": {
          "bdata": "5q4l5IOe7T/hC5OpglHrP23F/rJ78u4/lrIMcayL7T84+MJkqmDuPw==",
          "dtype": "f8"
         },
         "yaxis": "y"
        },
        {
         "marker": {
          "color": "#FFA15A"
         },
         "name": "basic",
         "showlegend": false,
         "text": {
          "bdata": "SOF6FK5H6T8AAAAAAADoPzMzMzMzM+s/pHA9Ctej6D8AAAAAAADoPw==",
          "dtype": "f8"
         },
         "textfont": {
          "color": "white"
         },
         "textposition": "inside",
         "type": "bar",
         "x": [
          "CLIP",
          "ResNet50",
          "SWIN",
          "ViT",
          "Xception"
         ],
         "xaxis": "x2",
         "y": {
          "bdata": "Ad4CCYof6T9NFYxK6gToP86I0t7gC+s/2PD0SlmG6D+7uI0G8BboPw==",
          "dtype": "f8"
         },
         "yaxis": "y2"
        },
        {
         "marker": {
          "color": "#636EFA"
         },
         "name": "advanced",
         "showlegend": false,
         "text": {
          "bdata": "w/UoXI/C7T+F61G4HoXrPwrXo3A9Cu8/w/UoXI/C7T9mZmZmZmbuPw==",
          "dtype": "f8"
         },
         "textfont": {
          "color": "white"
         },
         "textposition": "inside",
         "type": "bar",
         "x": [
          "CLIP",
          "ResNet50",
          "SWIN",
          "ViT",
          "Xception"
         ],
         "xaxis": "x2",
         "y": {
          "bdata": "R3L5D+m37T9cj8L1KFzrP08eFmpN8+4/si5uowG87T8rGJXUCWjuPw==",
          "dtype": "f8"
         },
         "yaxis": "y2"
        },
        {
         "marker": {
          "color": "#FFA15A"
         },
         "name": "basic",
         "showlegend": false,
         "text": {
          "bdata": "9ihcj8L16D8AAAAAAADoP+F6FK5H4eo/pHA9Ctej6D8AAAAAAADoPw==",
          "dtype": "f8"
         },
         "textfont": {
          "color": "white"
         },
         "textposition": "inside",
         "type": "bar",
         "x": [
          "CLIP",
          "ResNet50",
          "SWIN",
          "ViT",
          "Xception"
         ],
         "xaxis": "x3",
         "y": {
          "bdata": "seHplbIM6T8AAAAAAADoPyh+jLlrCes/UI2XbhKD6D9NFYxK6gToPw==",
          "dtype": "f8"
         },
         "yaxis": "y3"
        },
        {
         "marker": {
          "color": "#636EFA"
         },
         "name": "advanced",
         "showlegend": false,
         "text": {
          "bdata": "w/UoXI/C7T8zMzMzMzPrPwrXo3A9Cu8/cT0K16Nw7T9mZmZmZmbuPw==",
          "dtype": "f8"
         },
         "textfont": {
          "color": "white"
         },
         "textposition": "inside",
         "type": "bar",
         "x": [
          "CLIP",
          "ResNet50",
          "SWIN",
          "ViT",
          "Xception"
         ],
         "xaxis": "x3",
         "y": {
          "bdata": "5q4l5IOe7T/hC5OpglHrP23F/rJ78u4/lrIMcayL7T84+MJkqmDuPw==",
          "dtype": "f8"
         },
         "yaxis": "y3"
        }
       ],
       "layout": {
        "annotations": [
         {
          "font": {
           "size": 16
          },
          "showarrow": false,
          "text": "Accuracy Comparison",
          "x": 0.14444444444444446,
          "xanchor": "center",
          "xref": "paper",
          "y": 1,
          "yanchor": "bottom",
          "yref": "paper"
         },
         {
          "font": {
           "size": 16
          },
          "showarrow": false,
          "text": "Precision Comparison",
          "x": 0.5,
          "xanchor": "center",
          "xref": "paper",
          "y": 1,
          "yanchor": "bottom",
          "yref": "paper"
         },
         {
          "font": {
           "size": 16
          },
          "showarrow": false,
          "text": "Recall Comparison",
          "x": 0.8555555555555556,
          "xanchor": "center",
          "xref": "paper",
          "y": 1,
          "yanchor": "bottom",
          "yref": "paper"
         }
        ],
        "barmode": "group",
        "height": 400,
        "showlegend": true,
        "template": {
         "data": {
          "bar": [
           {
            "error_x": {
             "color": "#2a3f5f"
            },
            "error_y": {
             "color": "#2a3f5f"
            },
            "marker": {
             "line": {
              "color": "#E5ECF6",
              "width": 0.5
             },
             "pattern": {
              "fillmode": "overlay",
              "size": 10,
              "solidity": 0.2
             }
            },
            "type": "bar"
           }
          ],
          "barpolar": [
           {
            "marker": {
             "line": {
              "color": "#E5ECF6",
              "width": 0.5
             },
             "pattern": {
              "fillmode": "overlay",
              "size": 10,
              "solidity": 0.2
             }
            },
            "type": "barpolar"
           }
          ],
          "carpet": [
           {
            "aaxis": {
             "endlinecolor": "#2a3f5f",
             "gridcolor": "white",
             "linecolor": "white",
             "minorgridcolor": "white",
             "startlinecolor": "#2a3f5f"
            },
            "baxis": {
             "endlinecolor": "#2a3f5f",
             "gridcolor": "white",
             "linecolor": "white",
             "minorgridcolor": "white",
             "startlinecolor": "#2a3f5f"
            },
            "type": "carpet"
           }
          ],
          "choropleth": [
           {
            "colorbar": {
             "outlinewidth": 0,
             "ticks": ""
            },
            "type": "choropleth"
           }
          ],
          "contour": [
           {
            "colorbar": {
             "outlinewidth": 0,
             "ticks": ""
            },
            "colorscale": [
             [
              0,
              "#0d0887"
             ],
             [
              0.1111111111111111,
              "#46039f"
             ],
             [
              0.2222222222222222,
              "#7201a8"
             ],
             [
              0.3333333333333333,
              "#9c179e"
             ],
             [
              0.4444444444444444,
              "#bd3786"
             ],
             [
              0.5555555555555556,
              "#d8576b"
             ],
             [
              0.6666666666666666,
              "#ed7953"
             ],
             [
              0.7777777777777778,
              "#fb9f3a"
             ],
             [
              0.8888888888888888,
              "#fdca26"
             ],
             [
              1,
              "#f0f921"
             ]
            ],
            "type": "contour"
           }
          ],
          "contourcarpet": [
           {
            "colorbar": {
             "outlinewidth": 0,
             "ticks": ""
            },
            "type": "contourcarpet"
           }
          ],
          "heatmap": [
           {
            "colorbar": {
             "outlinewidth": 0,
             "ticks": ""
            },
            "colorscale": [
             [
              0,
              "#0d0887"
             ],
             [
              0.1111111111111111,
              "#46039f"
             ],
             [
              0.2222222222222222,
              "#7201a8"
             ],
             [
              0.3333333333333333,
              "#9c179e"
             ],
             [
              0.4444444444444444,
              "#bd3786"
             ],
             [
              0.5555555555555556,
              "#d8576b"
             ],
             [
              0.6666666666666666,
              "#ed7953"
             ],
             [
              0.7777777777777778,
              "#fb9f3a"
             ],
             [
              0.8888888888888888,
              "#fdca26"
             ],
             [
              1,
              "#f0f921"
             ]
            ],
            "type": "heatmap"
           }
          ],
          "histogram": [
           {
            "marker": {
             "pattern": {
              "fillmode": "overlay",
              "size": 10,
              "solidity": 0.2
             }
            },
            "type": "histogram"
           }
          ],
          "histogram2d": [
           {
            "colorbar": {
             "outlinewidth": 0,
             "ticks": ""
            },
            "colorscale": [
             [
              0,
              "#0d0887"
             ],
             [
              0.1111111111111111,
              "#46039f"
             ],
             [
              0.2222222222222222,
              "#7201a8"
             ],
             [
              0.3333333333333333,
              "#9c179e"
             ],
             [
              0.4444444444444444,
              "#bd3786"
             ],
             [
              0.5555555555555556,
              "#d8576b"
             ],
             [
              0.6666666666666666,
              "#ed7953"
             ],
             [
              0.7777777777777778,
              "#fb9f3a"
             ],
             [
              0.8888888888888888,
              "#fdca26"
             ],
             [
              1,
              "#f0f921"
             ]
            ],
            "type": "histogram2d"
           }
          ],
          "histogram2dcontour": [
           {
            "colorbar": {
             "outlinewidth": 0,
             "ticks": ""
            },
            "colorscale": [
             [
              0,
              "#0d0887"
             ],
             [
              0.1111111111111111,
              "#46039f"
             ],
             [
              0.2222222222222222,
              "#7201a8"
             ],
             [
              0.3333333333333333,
              "#9c179e"
             ],
             [
              0.4444444444444444,
              "#bd3786"
             ],
             [
              0.5555555555555556,
              "#d8576b"
             ],
             [
              0.6666666666666666,
              "#ed7953"
             ],
             [
              0.7777777777777778,
              "#fb9f3a"
             ],
             [
              0.8888888888888888,
              "#fdca26"
             ],
             [
              1,
              "#f0f921"
             ]
            ],
            "type": "histogram2dcontour"
           }
          ],
          "mesh3d": [
           {
            "colorbar": {
             "outlinewidth": 0,
             "ticks": ""
            },
            "type": "mesh3d"
           }
          ],
          "parcoords": [
           {
            "line": {
             "colorbar": {
              "outlinewidth": 0,
              "ticks": ""
             }
            },
            "type": "parcoords"
           }
          ],
          "pie": [
           {
            "automargin": true,
            "type": "pie"
           }
          ],
          "scatter": [
           {
            "fillpattern": {
             "fillmode": "overlay",
             "size": 10,
             "solidity": 0.2
            },
            "type": "scatter"
           }
          ],
          "scatter3d": [
           {
            "line": {
             "colorbar": {
              "outlinewidth": 0,
              "ticks": ""
             }
            },
            "marker": {
             "colorbar": {
              "outlinewidth": 0,
              "ticks": ""
             }
            },
            "type": "scatter3d"
           }
          ],
          "scattercarpet": [
           {
            "marker": {
             "colorbar": {
              "outlinewidth": 0,
              "ticks": ""
             }
            },
            "type": "scattercarpet"
           }
          ],
          "scattergeo": [
           {
            "marker": {
             "colorbar": {
              "outlinewidth": 0,
              "ticks": ""
             }
            },
            "type": "scattergeo"
           }
          ],
          "scattergl": [
           {
            "marker": {
             "colorbar": {
              "outlinewidth": 0,
              "ticks": ""
             }
            },
            "type": "scattergl"
           }
          ],
          "scattermap": [
           {
            "marker": {
             "colorbar": {
              "outlinewidth": 0,
              "ticks": ""
             }
            },
            "type": "scattermap"
           }
          ],
          "scattermapbox": [
           {
            "marker": {
             "colorbar": {
              "outlinewidth": 0,
              "ticks": ""
             }
            },
            "type": "scattermapbox"
           }
          ],
          "scatterpolar": [
           {
            "marker": {
             "colorbar": {
              "outlinewidth": 0,
              "ticks": ""
             }
            },
            "type": "scatterpolar"
           }
          ],
          "scatterpolargl": [
           {
            "marker": {
             "colorbar": {
              "outlinewidth": 0,
              "ticks": ""
             }
            },
            "type": "scatterpolargl"
           }
          ],
          "scatterternary": [
           {
            "marker": {
             "colorbar": {
              "outlinewidth": 0,
              "ticks": ""
             }
            },
            "type": "scatterternary"
           }
          ],
          "surface": [
           {
            "colorbar": {
             "outlinewidth": 0,
             "ticks": ""
            },
            "colorscale": [
             [
              0,
              "#0d0887"
             ],
             [
              0.1111111111111111,
              "#46039f"
             ],
             [
              0.2222222222222222,
              "#7201a8"
             ],
             [
              0.3333333333333333,
              "#9c179e"
             ],
             [
              0.4444444444444444,
              "#bd3786"
             ],
             [
              0.5555555555555556,
              "#d8576b"
             ],
             [
              0.6666666666666666,
              "#ed7953"
             ],
             [
              0.7777777777777778,
              "#fb9f3a"
             ],
             [
              0.8888888888888888,
              "#fdca26"
             ],
             [
              1,
              "#f0f921"
             ]
            ],
            "type": "surface"
           }
          ],
          "table": [
           {
            "cells": {
             "fill": {
              "color": "#EBF0F8"
             },
             "line": {
              "color": "white"
             }
            },
            "header": {
             "fill": {
              "color": "#C8D4E3"
             },
             "line": {
              "color": "white"
             }
            },
            "type": "table"
           }
          ]
         },
         "layout": {
          "annotationdefaults": {
           "arrowcolor": "#2a3f5f",
           "arrowhead": 0,
           "arrowwidth": 1
          },
          "autotypenumbers": "strict",
          "coloraxis": {
           "colorbar": {
            "outlinewidth": 0,
            "ticks": ""
           }
          },
          "colorscale": {
           "diverging": [
            [
             0,
             "#8e0152"
            ],
            [
             0.1,
             "#c51b7d"
            ],
            [
             0.2,
             "#de77ae"
            ],
            [
             0.3,
             "#f1b6da"
            ],
            [
             0.4,
             "#fde0ef"
            ],
            [
             0.5,
             "#f7f7f7"
            ],
            [
             0.6,
             "#e6f5d0"
            ],
            [
             0.7,
             "#b8e186"
            ],
            [
             0.8,
             "#7fbc41"
            ],
            [
             0.9,
             "#4d9221"
            ],
            [
             1,
             "#276419"
            ]
           ],
           "sequential": [
            [
             0,
             "#0d0887"
            ],
            [
             0.1111111111111111,
             "#46039f"
            ],
            [
             0.2222222222222222,
             "#7201a8"
            ],
            [
             0.3333333333333333,
             "#9c179e"
            ],
            [
             0.4444444444444444,
             "#bd3786"
            ],
            [
             0.5555555555555556,
             "#d8576b"
            ],
            [
             0.6666666666666666,
             "#ed7953"
            ],
            [
             0.7777777777777778,
             "#fb9f3a"
            ],
            [
             0.8888888888888888,
             "#fdca26"
            ],
            [
             1,
             "#f0f921"
            ]
           ],
           "sequentialminus": [
            [
             0,
             "#0d0887"
            ],
            [
             0.1111111111111111,
             "#46039f"
            ],
            [
             0.2222222222222222,
             "#7201a8"
            ],
            [
             0.3333333333333333,
             "#9c179e"
            ],
            [
             0.4444444444444444,
             "#bd3786"
            ],
            [
             0.5555555555555556,
             "#d8576b"
            ],
            [
             0.6666666666666666,
             "#ed7953"
            ],
            [
             0.7777777777777778,
             "#fb9f3a"
            ],
            [
             0.8888888888888888,
             "#fdca26"
            ],
            [
             1,
             "#f0f921"
            ]
           ]
          },
          "colorway": [
           "#636efa",
           "#EF553B",
           "#00cc96",
           "#ab63fa",
           "#FFA15A",
           "#19d3f3",
           "#FF6692",
           "#B6E880",
           "#FF97FF",
           "#FECB52"
          ],
          "font": {
           "color": "#2a3f5f"
          },
          "geo": {
           "bgcolor": "white",
           "lakecolor": "white",
           "landcolor": "#E5ECF6",
           "showlakes": true,
           "showland": true,
           "subunitcolor": "white"
          },
          "hoverlabel": {
           "align": "left"
          },
          "hovermode": "closest",
          "mapbox": {
           "style": "light"
          },
          "paper_bgcolor": "white",
          "plot_bgcolor": "#E5ECF6",
          "polar": {
           "angularaxis": {
            "gridcolor": "white",
            "linecolor": "white",
            "ticks": ""
           },
           "bgcolor": "#E5ECF6",
           "radialaxis": {
            "gridcolor": "white",
            "linecolor": "white",
            "ticks": ""
           }
          },
          "scene": {
           "xaxis": {
            "backgroundcolor": "#E5ECF6",
            "gridcolor": "white",
            "gridwidth": 2,
            "linecolor": "white",
            "showbackground": true,
            "ticks": "",
            "zerolinecolor": "white"
           },
           "yaxis": {
            "backgroundcolor": "#E5ECF6",
            "gridcolor": "white",
            "gridwidth": 2,
            "linecolor": "white",
            "showbackground": true,
            "ticks": "",
            "zerolinecolor": "white"
           },
           "zaxis": {
            "backgroundcolor": "#E5ECF6",
            "gridcolor": "white",
            "gridwidth": 2,
            "linecolor": "white",
            "showbackground": true,
            "ticks": "",
            "zerolinecolor": "white"
           }
          },
          "shapedefaults": {
           "line": {
            "color": "#2a3f5f"
           }
          },
          "ternary": {
           "aaxis": {
            "gridcolor": "white",
            "linecolor": "white",
            "ticks": ""
           },
           "baxis": {
            "gridcolor": "white",
            "linecolor": "white",
            "ticks": ""
           },
           "bgcolor": "#E5ECF6",
           "caxis": {
            "gridcolor": "white",
            "linecolor": "white",
            "ticks": ""
           }
          },
          "title": {
           "x": 0.05
          },
          "xaxis": {
           "automargin": true,
           "gridcolor": "white",
           "linecolor": "white",
           "ticks": "",
           "title": {
            "standoff": 15
           },
           "zerolinecolor": "white",
           "zerolinewidth": 2
          },
          "yaxis": {
           "automargin": true,
           "gridcolor": "white",
           "linecolor": "white",
           "ticks": "",
           "title": {
            "standoff": 15
           },
           "zerolinecolor": "white",
           "zerolinewidth": 2
          }
         }
        },
        "title": {
         "text": "Model Comparison: Accuracy, Precision, and Recall"
        },
        "uniformtext": {
         "minsize": 8
        },
        "width": 1500,
        "xaxis": {
         "anchor": "y",
         "domain": [
          0,
          0.2888888888888889
         ],
         "tickangle": -45
        },
        "xaxis2": {
         "anchor": "y2",
         "domain": [
          0.35555555555555557,
          0.6444444444444445
         ],
         "tickangle": -45
        },
        "xaxis3": {
         "anchor": "y3",
         "domain": [
          0.7111111111111111,
          1
         ],
         "tickangle": -45
        },
        "yaxis": {
         "anchor": "x",
         "domain": [
          0,
          1
         ],
         "range": [
          0,
          1
         ]
        },
        "yaxis2": {
         "anchor": "x2",
         "domain": [
          0,
          1
         ]
        },
        "yaxis3": {
         "anchor": "x3",
         "domain": [
          0,
          1
         ]
        }
       }
      }
     },
     "metadata": {},
     "output_type": "display_data"
    }
   ],
   "source": [
    "# Define metrics to plot\n",
    "metrics = ['Accuracy', 'Precision', 'Recall']\n",
    "\n",
    "# Define custom color map\n",
    "color_map = {\n",
    "    'basic': '#FFA15A',     # Orange\n",
    "    'advanced': '#636EFA'   # Blue\n",
    "}\n",
    "\n",
    "# Track which versions have already been added to the legend\n",
    "legend_shown = {}\n",
    "\n",
    "# Create subplots\n",
    "fig = make_subplots(rows=1, cols=3, subplot_titles=[f\"{metric} Comparison\" for metric in metrics])\n",
    "\n",
    "# Loop through metrics and add bar plots\n",
    "for i, metric in enumerate(metrics, start=1):\n",
    "    metric_df = df_shuffle[df_shuffle['Metric'] == metric]\n",
    "    metric_t = metric_df.drop('Metric', axis=1).T.reset_index()\n",
    "    metric_t.columns = ['model_type', metric]\n",
    "    metric_t[['Model', 'Version']] = metric_t['model_type'].str.extract(r'(\\w+)_([\\w]+)')\n",
    "\n",
    "    for version in metric_t['Version'].unique():\n",
    "        version_data = metric_t[metric_t['Version'] == version]\n",
    "\n",
    "        # Only show legend for the first time each version appears\n",
    "        show_legend = version not in legend_shown\n",
    "        legend_shown[version] = True\n",
    "\n",
    "        fig.add_trace(\n",
    "            go.Bar(\n",
    "                x=version_data['Model'],\n",
    "                y=version_data[metric],\n",
    "                name=version,\n",
    "                text=version_data[metric].round(2),\n",
    "                textposition='inside',\n",
    "                textfont_color='white',\n",
    "                marker_color=color_map.get(version, '#888'),\n",
    "                showlegend=show_legend\n",
    "            ),\n",
    "            row=1, col=i\n",
    "        )\n",
    "\n",
    "# Update layout\n",
    "fig.update_layout(\n",
    "    title_text=\"Model Comparison: Accuracy, Precision, and Recall\",\n",
    "    barmode='group',\n",
    "    yaxis=dict(range=[0, 1]),\n",
    "    showlegend=True,\n",
    "    uniformtext_minsize=8,\n",
    "    height=400,\n",
    "    width=1500\n",
    ")\n",
    "# Rotate x-tick labels for each subplot\n",
    "for i in range(1, 4):\n",
    "    fig.update_xaxes(tickangle=-45, row=1, col=i)\n",
    "    \n",
    "fig.show()"
   ]
  }
 ],
 "metadata": {
  "kernelspec": {
   "display_name": "venv",
   "language": "python",
   "name": "python3"
  },
  "language_info": {
   "codemirror_mode": {
    "name": "ipython",
    "version": 3
   },
   "file_extension": ".py",
   "mimetype": "text/x-python",
   "name": "python",
   "nbconvert_exporter": "python",
   "pygments_lexer": "ipython3",
   "version": "3.12.4"
  }
 },
 "nbformat": 4,
 "nbformat_minor": 2
}
